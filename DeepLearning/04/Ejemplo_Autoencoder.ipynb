{
 "cells": [
  {
   "cell_type": "markdown",
   "metadata": {},
   "source": [
    "# Ejemplo de un Autoencoder\n",
    "\n",
    "\n",
    "El objetivo de este código es crear una clase AutoEncoder que implemente:\n",
    "- un constructor\n",
    "- el metodo fit (incluye el metodo predict)\n",
    "- el forward de la capa hidden\n",
    "- el forward de la salida\n",
    "\n",
    "Se prueba leyendo los datos de MNIST y se entrena el autoencoder con los datos de train y los comparamos con la salida del predict()."
   ]
  },
  {
   "cell_type": "code",
   "execution_count": 1,
   "metadata": {
    "collapsed": true
   },
   "outputs": [],
   "source": [
    "from __future__ import print_function, division\n",
    "from builtins import range, input\n",
    "\n",
    "import numpy as np\n",
    "import pandas as pd\n",
    "import theano\n",
    "import theano.tensor as T\n",
    "import matplotlib.pyplot as plt\n",
    "\n",
    "from sklearn.utils import shuffle\n"
   ]
  },
  {
   "cell_type": "code",
   "execution_count": 2,
   "metadata": {
    "collapsed": true
   },
   "outputs": [],
   "source": [
    "# funciones utilitarias\n",
    "\n",
    "def relu(x):\n",
    "    return x * (x > 0)\n",
    "\n",
    "def error_rate(p, t):\n",
    "    return np.mean(p != t)\n",
    "\n",
    "def getMNIST():\n",
    "    # columna 0 - labels\n",
    "    # columna 1-785 - datos, valores 0 .. 255\n",
    "    # tamaño total del CSV: (42000, 1, 28, 28)\n",
    "    train = pd.read_csv('/home/jorge/data/MNIST/train.csv').as_matrix().astype(np.float32)\n",
    "    train = shuffle(train)\n",
    "\n",
    "    Xtrain = train[:-1000,1:] / 255\n",
    "    Ytrain = train[:-1000,0].astype(np.int32)\n",
    "\n",
    "    Xtest  = train[-1000:,1:] / 255\n",
    "    Ytest  = train[-1000:,0].astype(np.int32)\n",
    "    return Xtrain, Ytrain, Xtest, Ytest\n",
    "\n",
    "def inicializa_pesos(shape):\n",
    "    return np.random.randn(*shape) / np.sqrt(sum(shape))"
   ]
  },
  {
   "cell_type": "markdown",
   "metadata": {},
   "source": [
    "### Definimos la clase AutoEncoder( )"
   ]
  },
  {
   "cell_type": "code",
   "execution_count": 3,
   "metadata": {
    "collapsed": true
   },
   "outputs": [],
   "source": [
    "class AutoEncoder(object):\n",
    "    \n",
    "    def __init__(self, M, an_id):          # constructor\n",
    "        self.M = M\n",
    "        self.id = an_id\n",
    "\n",
    "    # Definimos el metodo fit () para la clase\n",
    "    # le pasamos el propio objeto y los datos de training pero sin etiquetas porque es no-supervisado\n",
    "    # tambien pasamos el learning_rate, mu para el momentum, el numero de epochs,\n",
    "    # tamaño del batch y show_fig que es un flag para poder plotear el función de coste\n",
    "\n",
    "    def fit(self, X, learning_rate=0.5, mu=0.99, epochs=1, batch_sz=100, show_fig=False):\n",
    "        N, D = X.shape\n",
    "        n_batches = N // batch_sz         # calculamos el numero de batches sabiendo el \n",
    "                                          # numero de muestras y el tamaño del barch\n",
    "\n",
    "        W0 = inicializa_pesos((D, self.M))    # inicializamos W0\n",
    "        self.W = theano.shared(W0, 'W_%s' % self.id)\n",
    "        \n",
    "        self.bh = theano.shared(np.zeros(self.M), 'bh_%s' % self.id)    # el bias de la hidden\n",
    "        self.bo = theano.shared(np.zeros(D), 'bo_%s' % self.id)         # el bias de la salida\n",
    "        \n",
    "        self.params = [self.W, self.bh, self.bo]\n",
    "        self.forward_params = [self.W, self.bh]\n",
    "\n",
    "        # TODO: technically these should be reset before doing backprop\n",
    "        self.dW = theano.shared(np.zeros(W0.shape), 'dW_%s' % self.id)\n",
    "        self.dbh = theano.shared(np.zeros(self.M), 'dbh_%s' % self.id)\n",
    "        self.dbo = theano.shared(np.zeros(D), 'dbo_%s' % self.id)\n",
    "        self.dparams = [self.dW, self.dbh, self.dbo]\n",
    "        self.forward_dparams = [self.dW, self.dbh]\n",
    "   \n",
    "        # La matriz de entrada es X_in\n",
    "        X_in = T.matrix('X_%s' % self.id)\n",
    "        # Hacemos la prediccion de X_in \n",
    "        X_hat = self.forward_output(X_in)\n",
    "  \n",
    "        # attach it to the object so it can be used later\n",
    "        # must be sigmoidal because the output is also a sigmoid\n",
    "        H = T.nnet.sigmoid(X_in.dot(self.W) + self.bh)\n",
    "        self.hidden_op = theano.function(\n",
    "            inputs=[X_in],\n",
    "            outputs=H,\n",
    "        )\n",
    "\n",
    "        # Guardamos el metodo predict para utilizarlo como predictor de la clase\n",
    "        self.predict = theano.function(\n",
    "            inputs=[X_in],\n",
    "            outputs=X_hat,\n",
    "        )\n",
    "\n",
    "        # Alternativas de funcion de coste\n",
    "        # cost = ((X_in - X_hat) * (X_in - X_hat)).sum() / N\n",
    "        cost = -(X_in * T.log(X_hat) + (1 - X_in) * T.log(1 - X_hat)).flatten().mean()\n",
    "        cost_op = theano.function(\n",
    "            inputs=[X_in],\n",
    "            outputs=cost,\n",
    "        )\n",
    "\n",
    "        # Como se actualizan los pesos?\n",
    "        updates = [\n",
    "            (p, p + mu*dp - learning_rate*T.grad(cost, p)) for p, dp in zip(self.params, self.dparams)\n",
    "        ] + [\n",
    "            (dp, mu*dp - learning_rate*T.grad(cost, p)) for p, dp in zip(self.params, self.dparams)\n",
    "        ]\n",
    "        \n",
    "        train_op = theano.function(\n",
    "            inputs=[X_in],\n",
    "            updates=updates,\n",
    "        )\n",
    "\n",
    "        costs = []\n",
    "        print(\"Entrenando al autoencoder: %s\" % self.id)\n",
    "        for i in range(epochs):\n",
    "            print(\"epoch:\", i)\n",
    "            X = shuffle(X)\n",
    "            for j in range(n_batches):\n",
    "                batch = X[j*batch_sz:(j*batch_sz + batch_sz)]\n",
    "                train_op(batch)\n",
    "                the_cost = cost_op(batch) # technically we could also get the cost for Xtest here\n",
    "                if j % 10 == 0:\n",
    "                    print(\"j / n_batches:\", j, \"/\", n_batches, \"coste:\", the_cost)\n",
    "                costs.append(the_cost)\n",
    "        if show_fig:\n",
    "            plt.plot(costs)\n",
    "            plt.show()\n",
    "\n",
    "    def forward_hidden(self, X):\n",
    "        Z = T.nnet.sigmoid(X.dot(self.W) + self.bh)\n",
    "        # Z = T.tanh(X.dot(self.W) + self.bh)\n",
    "        # Z = relu(X.dot(self.W) + self.bh)\n",
    "        return Z\n",
    "\n",
    "    def forward_output(self, X):\n",
    "        Z = self.forward_hidden(X)\n",
    "        Y = T.nnet.sigmoid(Z.dot(self.W.T) + self.bo)\n",
    "        return Y\n",
    "\n",
    "    @staticmethod\n",
    "    def createFromArrays(W, bh, bo, an_id):\n",
    "        ae = AutoEncoder(W.shape[1], an_id)\n",
    "        ae.W = theano.shared(W, 'W_%s' % ae.id)\n",
    "        ae.bh = theano.shared(bh, 'bh_%s' % ae.id)\n",
    "        ae.bo = theano.shared(bo, 'bo_%s' % ae.id)\n",
    "        ae.params = [ae.W, ae.bh, ae.bo]\n",
    "        ae.forward_params = [ae.W, ae.bh]\n",
    "        return ae"
   ]
  },
  {
   "cell_type": "markdown",
   "metadata": {},
   "source": [
    "### Probamos la clase AutoEncoder( )"
   ]
  },
  {
   "cell_type": "code",
   "execution_count": 4,
   "metadata": {},
   "outputs": [
    {
     "name": "stdout",
     "output_type": "stream",
     "text": [
      "Leyendo datos....\n"
     ]
    }
   ],
   "source": [
    "print('Leyendo datos....')\n",
    "Xtrain, Ytrain, Xtest, Ytest = getMNIST()"
   ]
  },
  {
   "cell_type": "code",
   "execution_count": 5,
   "metadata": {},
   "outputs": [
    {
     "name": "stdout",
     "output_type": "stream",
     "text": [
      "Instanciando el autoencoder....\n"
     ]
    }
   ],
   "source": [
    "print (\"Instanciando el autoencoder....\")\n",
    "autoencoder = AutoEncoder(300, 0)"
   ]
  },
  {
   "cell_type": "code",
   "execution_count": 6,
   "metadata": {},
   "outputs": [
    {
     "name": "stdout",
     "output_type": "stream",
     "text": [
      "Entrenando el autoencoder....\n"
     ]
    },
    {
     "name": "stderr",
     "output_type": "stream",
     "text": [
      "WARNING (theano.configdefaults): install mkl with `conda install mkl-service`: No module named mkl\n"
     ]
    },
    {
     "name": "stdout",
     "output_type": "stream",
     "text": [
      "Entrenando al autoencoder: 0\n",
      "epoch: 0\n",
      "j / n_batches: 0 / 410 coste: 0.689711280894\n",
      "j / n_batches: 10 / 410 coste: 0.402854086465\n",
      "j / n_batches: 20 / 410 coste: 0.280462276979\n",
      "j / n_batches: 30 / 410 coste: 0.270543775895\n",
      "j / n_batches: 40 / 410 coste: 0.258848045596\n",
      "j / n_batches: 50 / 410 coste: 0.260428604339\n",
      "j / n_batches: 60 / 410 coste: 0.258534185157\n",
      "j / n_batches: 70 / 410 coste: 0.245598204003\n",
      "j / n_batches: 80 / 410 coste: 0.248084160037\n",
      "j / n_batches: 90 / 410 coste: 0.226784911685\n",
      "j / n_batches: 100 / 410 coste: 0.22448572536\n",
      "j / n_batches: 110 / 410 coste: 0.213824876041\n",
      "j / n_batches: 120 / 410 coste: 0.209023306444\n",
      "j / n_batches: 130 / 410 coste: 0.21501502292\n",
      "j / n_batches: 140 / 410 coste: 0.208373445431\n",
      "j / n_batches: 150 / 410 coste: 0.206359910043\n",
      "j / n_batches: 160 / 410 coste: 0.196012072857\n",
      "j / n_batches: 170 / 410 coste: 0.196337131762\n",
      "j / n_batches: 180 / 410 coste: 0.195671647224\n",
      "j / n_batches: 190 / 410 coste: 0.184962536009\n",
      "j / n_batches: 200 / 410 coste: 0.169982140033\n",
      "j / n_batches: 210 / 410 coste: 0.169504468513\n",
      "j / n_batches: 220 / 410 coste: 0.174995256561\n",
      "j / n_batches: 230 / 410 coste: 0.178111743765\n",
      "j / n_batches: 240 / 410 coste: 0.168480514262\n",
      "j / n_batches: 250 / 410 coste: 0.183044593325\n",
      "j / n_batches: 260 / 410 coste: 0.166008584878\n",
      "j / n_batches: 270 / 410 coste: 0.164327796782\n",
      "j / n_batches: 280 / 410 coste: 0.169436862466\n",
      "j / n_batches: 290 / 410 coste: 0.157522460148\n",
      "j / n_batches: 300 / 410 coste: 0.158543652747\n",
      "j / n_batches: 310 / 410 coste: 0.15485121639\n",
      "j / n_batches: 320 / 410 coste: 0.156214695655\n",
      "j / n_batches: 330 / 410 coste: 0.160234433068\n",
      "j / n_batches: 340 / 410 coste: 0.155055913447\n",
      "j / n_batches: 350 / 410 coste: 0.158768695432\n",
      "j / n_batches: 360 / 410 coste: 0.150778156695\n",
      "j / n_batches: 370 / 410 coste: 0.150838204072\n",
      "j / n_batches: 380 / 410 coste: 0.155399918415\n",
      "j / n_batches: 390 / 410 coste: 0.153578410143\n",
      "j / n_batches: 400 / 410 coste: 0.140536133384\n",
      "epoch: 1\n",
      "j / n_batches: 0 / 410 coste: 0.14819870436\n",
      "j / n_batches: 10 / 410 coste: 0.141950037298\n",
      "j / n_batches: 20 / 410 coste: 0.142579935343\n",
      "j / n_batches: 30 / 410 coste: 0.147324097192\n",
      "j / n_batches: 40 / 410 coste: 0.13922949681\n",
      "j / n_batches: 50 / 410 coste: 0.131270829801\n",
      "j / n_batches: 60 / 410 coste: 0.137185106992\n",
      "j / n_batches: 70 / 410 coste: 0.130503080208\n",
      "j / n_batches: 80 / 410 coste: 0.137067148349\n",
      "j / n_batches: 90 / 410 coste: 0.130336112173\n",
      "j / n_batches: 100 / 410 coste: 0.132274946395\n",
      "j / n_batches: 110 / 410 coste: 0.133405474634\n",
      "j / n_batches: 120 / 410 coste: 0.128511657158\n",
      "j / n_batches: 130 / 410 coste: 0.12677966429\n",
      "j / n_batches: 140 / 410 coste: 0.126430055161\n",
      "j / n_batches: 150 / 410 coste: 0.128285745153\n",
      "j / n_batches: 160 / 410 coste: 0.125511124237\n",
      "j / n_batches: 170 / 410 coste: 0.131255072774\n",
      "j / n_batches: 180 / 410 coste: 0.131885500702\n",
      "j / n_batches: 190 / 410 coste: 0.123199945729\n",
      "j / n_batches: 200 / 410 coste: 0.134485336958\n",
      "j / n_batches: 210 / 410 coste: 0.128145757256\n",
      "j / n_batches: 220 / 410 coste: 0.125140456289\n",
      "j / n_batches: 230 / 410 coste: 0.111058166018\n",
      "j / n_batches: 240 / 410 coste: 0.119556131299\n",
      "j / n_batches: 250 / 410 coste: 0.123191654938\n",
      "j / n_batches: 260 / 410 coste: 0.121048138467\n",
      "j / n_batches: 270 / 410 coste: 0.13638640666\n",
      "j / n_batches: 280 / 410 coste: 0.128033224414\n",
      "j / n_batches: 290 / 410 coste: 0.119409210718\n",
      "j / n_batches: 300 / 410 coste: 0.12252013349\n",
      "j / n_batches: 310 / 410 coste: 0.120690702888\n",
      "j / n_batches: 320 / 410 coste: 0.124399525479\n",
      "j / n_batches: 330 / 410 coste: 0.116797809587\n",
      "j / n_batches: 340 / 410 coste: 0.119409856841\n",
      "j / n_batches: 350 / 410 coste: 0.114289120493\n",
      "j / n_batches: 360 / 410 coste: 0.120677588712\n",
      "j / n_batches: 370 / 410 coste: 0.112677338108\n",
      "j / n_batches: 380 / 410 coste: 0.1175126852\n",
      "j / n_batches: 390 / 410 coste: 0.122984925389\n",
      "j / n_batches: 400 / 410 coste: 0.12696556289\n"
     ]
    },
    {
     "data": {
      "image/png": "[encoded data removed]",
      "text/plain": [
       "<matplotlib.figure.Figure at 0x7f92d8ec3c90>"
      ]
     },
     "metadata": {},
     "output_type": "display_data"
    }
   ],
   "source": [
    "print (\"Entrenando el autoencoder....\")\n",
    "autoencoder.fit(Xtrain, epochs=2, show_fig=True)"
   ]
  },
  {
   "cell_type": "markdown",
   "metadata": {},
   "source": [
    "### Ahora vemos las imagenes de 5 digitos y la version 'aprendida' por el autoencoder."
   ]
  },
  {
   "cell_type": "code",
   "execution_count": 7,
   "metadata": {},
   "outputs": [
    {
     "data": {
      "image/png": "[encoded data removed]",
      "text/plain": [
       "<matplotlib.figure.Figure at 0x7f92cc6c8cd0>"
      ]
     },
     "metadata": {},
     "output_type": "display_data"
    },
    {
     "data": {
      "image/png": "[encoded data removed]",
      "text/plain": [
       "<matplotlib.figure.Figure at 0x7f92cc6e4b50>"
      ]
     },
     "metadata": {},
     "output_type": "display_data"
    },
    {
     "data": {
      "image/png": "[encoded data removed]",
      "text/plain": [
       "<matplotlib.figure.Figure at 0x7f92cc5779d0>"
      ]
     },
     "metadata": {},
     "output_type": "display_data"
    },
    {
     "data": {
      "image/png": "[encoded data removed]",
      "text/plain": [
       "<matplotlib.figure.Figure at 0x7f92cf369a90>"
      ]
     },
     "metadata": {},
     "output_type": "display_data"
    },
    {
     "data": {
      "image/png": "[encoded data removed]",
      "text/plain": [
       "<matplotlib.figure.Figure at 0x7f92cf4b2550>"
      ]
     },
     "metadata": {},
     "output_type": "display_data"
    }
   ],
   "source": [
    "for p in xrange(5):\n",
    "        i = np.random.choice(len(Xtest))\n",
    "        x = Xtest[i]\n",
    "        y = autoencoder.predict([x])\n",
    "        plt.subplot(1,2,1)\n",
    "        plt.imshow(x.reshape(28,28), cmap='gray')\n",
    "        plt.title('Original')\n",
    "\n",
    "        plt.subplot(1,2,2)\n",
    "        plt.imshow(y.reshape(28,28), cmap='gray')\n",
    "        plt.title('Reconstruido')\n",
    "\n",
    "        plt.show()\n"
   ]
  }
 ],
 "metadata": {
  "kernelspec": {
   "display_name": "Python 2",
   "language": "python",
   "name": "python2"
  },
  "language_info": {
   "codemirror_mode": {
    "name": "ipython",
    "version": 2
   },
   "file_extension": ".py",
   "mimetype": "text/x-python",
   "name": "python",
   "nbconvert_exporter": "python",
   "pygments_lexer": "ipython2",
   "version": "2.7.13"
  }
 },
 "nbformat": 4,
 "nbformat_minor": 2
}
