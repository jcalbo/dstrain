{
 "cells": [
  {
   "cell_type": "markdown",
   "metadata": {},
   "source": [
    "# El problema de XOR resuelto con NN "
   ]
  },
  {
   "cell_type": "markdown",
   "metadata": {},
   "source": [
    "Los problemas de XOR y DONUT son problemas no lineales de **clasificación binaria** (una clase u otra).\n",
    "\n",
    "En el caso de XOR, se ve que no hay una linea que pueda separar las 2 clases."
   ]
  },
  {
   "cell_type": "markdown",
   "metadata": {},
   "source": [
    "![Problema XOR](xor2.png)"
   ]
  },
  {
   "cell_type": "code",
   "execution_count": 4,
   "metadata": {
    "collapsed": true
   },
   "outputs": [],
   "source": [
    "import numpy as np\n",
    "import matplotlib.pyplot as plt\n"
   ]
  },
  {
   "cell_type": "code",
   "execution_count": 5,
   "metadata": {
    "collapsed": true
   },
   "outputs": [],
   "source": [
    "# Este es un caso de clasificación binaria, entonces usaremos 2 sigmoides encadenadas.\n",
    "def forward(X, W1, b1, W2, b2):\n",
    "    # sigmoid\n",
    "    Z = 1 / (1 + np.exp( -(X.dot(W1) + b1) ))\n",
    "\n",
    "    # tanh\n",
    "    # Z = np.tanh(X.dot(W1) + b1)\n",
    "    # relu\n",
    "    #Z = X.dot(W1) + b1\n",
    "    #Z = Z * (Z > 0)\n",
    "\n",
    "    activation = Z.dot(W2) + b2\n",
    "    \n",
    "    Y = 1 / (1 + np.exp(-activation))\n",
    "    \n",
    "    return Y, Z"
   ]
  },
  {
   "cell_type": "code",
   "execution_count": 6,
   "metadata": {
    "collapsed": true
   },
   "outputs": [],
   "source": [
    "# Para la función 'predict' no es necesario usar softmax(), sino que usaremos solo el redondeo de la función forward()\n",
    "def predict(X, W1, b1, W2, b2):\n",
    "    Y, _ = forward(X, W1, b1, W2, b2)\n",
    "    return np.round(Y)"
   ]
  },
  {
   "cell_type": "code",
   "execution_count": 9,
   "metadata": {},
   "outputs": [],
   "source": [
    "# Derivadas para la actualizacion de pesos\n",
    "\n",
    "def derivative_w2(Z, T, Y):\n",
    "    # Z es (N, M)\n",
    "    return (T - Y).dot(Z)\n",
    "\n",
    "def derivative_b2(T, Y):\n",
    "    return (T - Y).sum()\n",
    "\n",
    "def derivative_w1(X, Z, T, Y, W2):\n",
    "    dZ = np.outer(T-Y, W2) * Z * (1 - Z) # esta es para la activacion sigmoide\n",
    "    # dZ = np.outer(T-Y, W2) * (1 - Z * Z) # esta es para la activacion tanh\n",
    "    # dZ = np.outer(T-Y, W2) * (Z > 0) # esta es para la activacion relu \n",
    "    return X.T.dot(dZ)\n",
    "\n",
    "def derivative_b1(Z, T, Y, W2):\n",
    "    # dZ = np.outer(T-Y, W2) * Z * (1 - Z) # this is for sigmoid activation\n",
    "    # dZ = np.outer(T-Y, W2) * (1 - Z * Z) # this is for tanh activation\n",
    "    dZ = np.outer(T-Y, W2) * (Z > 0) # this is for relu activation\n",
    "    return dZ.sum(axis=0)"
   ]
  },
  {
   "cell_type": "code",
   "execution_count": 10,
   "metadata": {
    "collapsed": true
   },
   "outputs": [],
   "source": [
    "def cost(T, Y):\n",
    "    # tot = 0\n",
    "    # for n in xrange(len(T)):\n",
    "    #     if T[n] == 1:\n",
    "    #         tot += np.log(Y[n])\n",
    "    #     else:\n",
    "    #         tot += np.log(1 - Y[n])\n",
    "    # return tot\n",
    "    return np.sum(T*np.log(Y) + (1-T)*np.log(1-Y))"
   ]
  },
  {
   "cell_type": "code",
   "execution_count": 11,
   "metadata": {
    "collapsed": true
   },
   "outputs": [],
   "source": [
    "# Datos del problema XOR\n",
    "X = np.array([[0, 0], [0, 1], [1, 0], [1, 1]])\n",
    "Y = np.array([0, 1, 1, 0])"
   ]
  },
  {
   "cell_type": "code",
   "execution_count": 12,
   "metadata": {
    "collapsed": true
   },
   "outputs": [],
   "source": [
    "# Creamos una NN con 5 neuronas en la 1er capa y asignamos pesos random\n",
    "W1 = np.random.randn(2, 5)\n",
    "b1 = np.zeros(5)\n",
    "W2 = np.random.randn(5)\n",
    "b2 = 0\n",
    "    \n",
    "# variables utiles\n",
    "LL = [] # guardamos registro del log likelihood\n",
    "learning_rate = 1e-2\n",
    "regularization = 0.                             # en este caso es 0\n",
    "last_error_rate = None\n"
   ]
  },
  {
   "cell_type": "code",
   "execution_count": 14,
   "metadata": {},
   "outputs": [
    {
     "name": "stdout",
     "output_type": "stream",
     "text": [
      "error rate: 0.5\n",
      "true: [0 1 1 0]\n",
      "pred: [ 1.  1.  1.  1.]\n",
      "-2.77026473001\n",
      "error rate: 0.75\n",
      "true: [0 1 1 0]\n",
      "pred: [ 1.  1.  0.  1.]\n",
      "error rate: 0.5\n",
      "true: [0 1 1 0]\n",
      "pred: [ 1.  1.  0.  0.]\n",
      "error rate: 0.25\n",
      "true: [0 1 1 0]\n",
      "pred: [ 1.  1.  1.  0.]\n",
      "error rate: 0.5\n",
      "true: [0 1 1 0]\n",
      "pred: [ 1.  0.  1.  0.]\n",
      "-2.76407901053\n",
      "-2.75664169603\n",
      "-2.74318480756\n",
      "-2.71424648551\n",
      "-2.64167493648\n",
      "error rate: 0.25\n",
      "true: [0 1 1 0]\n",
      "pred: [ 1.  1.  1.  0.]\n",
      "-2.4329842326\n",
      "error rate: 0.0\n",
      "true: [0 1 1 0]\n",
      "pred: [ 0.  1.  1.  0.]\n",
      "-1.87550220535\n",
      "-1.09593453034\n",
      "-0.625413201541\n",
      "-0.407439119055\n",
      "-0.294858564347\n",
      "-0.228359699291\n",
      "-0.185041583639\n",
      "-0.154803317509\n",
      "-0.132602288017\n",
      "-0.115666469277\n",
      "-0.102354690282\n",
      "-0.0916370756183\n",
      "-0.0828364576462\n",
      "-0.0754902225395\n",
      "-0.06927209208\n",
      "-0.0639456514019\n",
      "-0.05933559165\n",
      "-0.0553092849447\n",
      "-0.0517646189346\n",
      "-0.0486217506114\n",
      "-0.0458173859327\n",
      "-0.0433007292719\n",
      "-0.0410305621422\n"
     ]
    }
   ],
   "source": [
    "# hacemos 30000 pasadas\n",
    "for i in xrange(30000):\n",
    "    pY, Z = forward(X, W1, b1, W2, b2)                  # hacemos el forward()\n",
    "    ll = cost(Y, pY)                                    # calculamos el coste\n",
    "    prediction = predict(X, W1, b1, W2, b2)             # hacemos la prediccion\n",
    "    er = np.mean(prediction != Y)                       # calculamos el error\n",
    "    \n",
    "    if er != last_error_rate:                           # si el error es distinto al anterior\n",
    "        last_error_rate = er                                # actualizo el last_error\n",
    "        print \"error rate:\", er\n",
    "        print \"true:\", Y\n",
    "        print \"pred:\", prediction\n",
    "    \n",
    "    if LL and ll < LL[-1]:\n",
    "        print \"early exit\"\n",
    "        break\n",
    "    \n",
    "    LL.append(ll)                                       # actualizo la lista de log-likelihood\n",
    "    \n",
    "    W2 += learning_rate * (derivative_w2(Z, Y, pY) - regularization * W2)    # actualizo W2\n",
    "    b2 += learning_rate * (derivative_b2(Y, pY) - regularization * b2)       # actualizo el b2 \n",
    "    W1 += learning_rate * (derivative_w1(X, Z, Y, pY, W2) - regularization * W1)  # actualizo W1\n",
    "    b1 += learning_rate * (derivative_b1(Z, Y, pY, W2) - regularization * b1)     # actualizo b1\n",
    "    \n",
    "    if i % 1000 == 0:\n",
    "        print ll\n"
   ]
  },
  {
   "cell_type": "code",
   "execution_count": 16,
   "metadata": {},
   "outputs": [
    {
     "name": "stdout",
     "output_type": "stream",
     "text": [
      "Ratio de Clasificacion final: 1.0\n"
     ]
    },
    {
     "data": {
      "image/png": "[encoded data removed]",
      "text/plain": [
       "<matplotlib.figure.Figure at 0x7f32b4fac6d0>"
      ]
     },
     "metadata": {},
     "output_type": "display_data"
    }
   ],
   "source": [
    "print \"Ratio de Clasificacion final:\", np.mean(prediction == Y)\n",
    "plt.plot(LL)\n",
    "plt.show()"
   ]
  },
  {
   "cell_type": "markdown",
   "metadata": {},
   "source": [
    "Se ve que al final la NN resuelve el problema de clasificación no lineal con un ratio de clasificación del 100%."
   ]
  }
 ],
 "metadata": {
  "kernelspec": {
   "display_name": "Python 2",
   "language": "python",
   "name": "python2"
  },
  "language_info": {
   "codemirror_mode": {
    "name": "ipython",
    "version": 2
   },
   "file_extension": ".py",
   "mimetype": "text/x-python",
   "name": "python",
   "nbconvert_exporter": "python",
   "pygments_lexer": "ipython2",
   "version": "2.7.13"
  }
 },
 "nbformat": 4,
 "nbformat_minor": 2
}
