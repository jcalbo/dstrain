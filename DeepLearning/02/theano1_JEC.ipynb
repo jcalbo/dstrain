{
 "cells": [
  {
   "cell_type": "markdown",
   "metadata": {},
   "source": [
    "# theano1_JEC\n",
    "\n",
    "## Solo algunos conceptos (muy) basicos del uso de Theano"
   ]
  },
  {
   "cell_type": "code",
   "execution_count": 1,
   "metadata": {
    "collapsed": true
   },
   "outputs": [],
   "source": [
    "import numpy as np\n",
    "\n",
    "# Theano tiene tensores tambien...\n",
    "import theano.tensor as T"
   ]
  },
  {
   "cell_type": "code",
   "execution_count": 14,
   "metadata": {
    "collapsed": true
   },
   "outputs": [],
   "source": [
    "# Algunos tipos de variables\n",
    "c = T.scalar('c')\n",
    "v = T.vector('v')\n",
    "A = T.matrix('A')\n"
   ]
  },
  {
   "cell_type": "markdown",
   "metadata": {},
   "source": [
    "### Hay que tener en cuenta que las variables solo estan creadas y no tienen valores aun.\n",
    "\n",
    "Si aplicamos una multiplicación de matrices e imprimimos w, veremos que no muestra nada"
   ]
  },
  {
   "cell_type": "code",
   "execution_count": 15,
   "metadata": {},
   "outputs": [
    {
     "data": {
      "text/plain": [
       "dot.0"
      ]
     },
     "execution_count": 15,
     "metadata": {},
     "output_type": "execute_result"
    }
   ],
   "source": [
    "w = A.dot(v)\n",
    "w"
   ]
  },
  {
   "cell_type": "markdown",
   "metadata": {},
   "source": [
    "### Para colocar valores en las variables, importamos theano y usamos sus funciones"
   ]
  },
  {
   "cell_type": "code",
   "execution_count": 16,
   "metadata": {
    "collapsed": true
   },
   "outputs": [],
   "source": [
    "\n",
    "import theano\n",
    "\n",
    "# Creamos una funcion que especifica las entradas y las salidas\n",
    "# w esta definida como un producto de matrices anteriormente\n",
    "matrix_times_vector = theano.function(inputs=[A, v], \n",
    "                                      outputs=w)\n"
   ]
  },
  {
   "cell_type": "code",
   "execution_count": 17,
   "metadata": {
    "collapsed": true
   },
   "outputs": [],
   "source": [
    "# Creamos una matriz y un vector para operar\n",
    "A_val = np.array([[1,2], [3,4]])\n",
    "v_val = np.array([5,6])"
   ]
  },
  {
   "cell_type": "code",
   "execution_count": 18,
   "metadata": {},
   "outputs": [
    {
     "name": "stdout",
     "output_type": "stream",
     "text": [
      "[ 17.  39.]\n"
     ]
    }
   ],
   "source": [
    "w_val = matrix_times_vector(A_val, v_val)\n",
    "print w_val"
   ]
  },
  {
   "cell_type": "markdown",
   "metadata": {},
   "source": [
    "### Las variables en Theano no cambian sus valores...\n",
    "\n",
    "Para ello necesitamos definir un objeto 'shared'"
   ]
  },
  {
   "cell_type": "code",
   "execution_count": 19,
   "metadata": {
    "collapsed": true
   },
   "outputs": [],
   "source": [
    "# El primer argumento es su valor inicial y el segundo su 'nombre' o 'nickname'\n",
    "\n",
    "x = theano.shared(20.0, 'x')\n"
   ]
  },
  {
   "cell_type": "code",
   "execution_count": 20,
   "metadata": {
    "collapsed": true
   },
   "outputs": [],
   "source": [
    "# Definimos una funcion de coste (que tenga un minimo claro...)\n",
    "\n",
    "cost = x*x + x + 1"
   ]
  },
  {
   "cell_type": "markdown",
   "metadata": {},
   "source": [
    "### Algo interesante de Theano es que no necesitamos calcular el gradiente!\n",
    "\n",
    "...pero si tenemos que decir como se actualizan los pesos"
   ]
  },
  {
   "cell_type": "code",
   "execution_count": 21,
   "metadata": {
    "collapsed": true
   },
   "outputs": [],
   "source": [
    "x_update = x - 0.3*T.grad(cost, x)"
   ]
  },
  {
   "cell_type": "markdown",
   "metadata": {},
   "source": [
    "### OJO!! No confundir, aqui x no es una \"input\", es algo que vamos a actualizar con los updates\n",
    "\n",
    "Los 'data' y 'labels' irian en los inputs y los parametros del modelo iran en los updates\n",
    "\n",
    " Los updates reciben una lista de tuplas, y cada tupla tiene 2 cosas:\n",
    " 1. la variable shared a actualizar, \n",
    " 2. y la función de actualizacion"
   ]
  },
  {
   "cell_type": "code",
   "execution_count": 22,
   "metadata": {
    "collapsed": true
   },
   "outputs": [],
   "source": [
    "train = theano.function(inputs=[], \n",
    "                        outputs=cost, \n",
    "                        updates=[(x, x_update)])"
   ]
  },
  {
   "cell_type": "code",
   "execution_count": 23,
   "metadata": {},
   "outputs": [
    {
     "name": "stdout",
     "output_type": "stream",
     "text": [
      "421.0\n",
      "67.99\n",
      "11.5084\n",
      "2.471344\n",
      "1.02541504\n",
      "0.7940664064\n",
      "0.757050625024\n",
      "0.751128100004\n",
      "0.750180496001\n",
      "0.75002887936\n",
      "0.750004620698\n",
      "0.750000739312\n",
      "0.75000011829\n",
      "0.750000018926\n",
      "0.750000003028\n",
      "0.750000000485\n",
      "0.750000000078\n",
      "0.750000000012\n",
      "0.750000000002\n",
      "0.75\n",
      "0.75\n",
      "0.75\n",
      "0.75\n",
      "0.75\n",
      "0.75\n",
      "0.75\n",
      "0.75\n",
      "0.75\n",
      "0.75\n",
      "0.75\n"
     ]
    }
   ],
   "source": [
    "# Hacemos el loop para el training\n",
    "# train() no tiene argumentos porque ya hemos definido como es el train...!!\n",
    "for i in xrange(30):\n",
    "    cost_val = train()\n",
    "    print cost_val"
   ]
  },
  {
   "cell_type": "markdown",
   "metadata": {},
   "source": [
    "### Como x es la shared a actualizar, podemos ver el valor optimizado"
   ]
  },
  {
   "cell_type": "code",
   "execution_count": 13,
   "metadata": {},
   "outputs": [
    {
     "name": "stdout",
     "output_type": "stream",
     "text": [
      "-0.499999999976\n"
     ]
    }
   ],
   "source": [
    "print x.get_value()"
   ]
  },
  {
   "cell_type": "code",
   "execution_count": null,
   "metadata": {
    "collapsed": true
   },
   "outputs": [],
   "source": []
  }
 ],
 "metadata": {
  "kernelspec": {
   "display_name": "Python 2",
   "language": "python",
   "name": "python2"
  },
  "language_info": {
   "codemirror_mode": {
    "name": "ipython",
    "version": 2
   },
   "file_extension": ".py",
   "mimetype": "text/x-python",
   "name": "python",
   "nbconvert_exporter": "python",
   "pygments_lexer": "ipython2",
   "version": "2.7.13"
  }
 },
 "nbformat": 4,
 "nbformat_minor": 2
}
