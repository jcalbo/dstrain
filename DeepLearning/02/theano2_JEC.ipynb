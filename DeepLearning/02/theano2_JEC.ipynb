{
 "cells": [
  {
   "cell_type": "markdown",
   "metadata": {},
   "source": [
    "# theano2-JEC\n",
    "\n",
    "## Red Neuronal de 1 capa hidden con Theano"
   ]
  },
  {
   "cell_type": "code",
   "execution_count": 1,
   "metadata": {},
   "outputs": [
    {
     "data": {
      "text/plain": [
       "'0.9.0'"
      ]
     },
     "execution_count": 1,
     "metadata": {},
     "output_type": "execute_result"
    }
   ],
   "source": [
    "# importamos las librerias necesarias\n",
    "import os\n",
    "import numpy as np\n",
    "import pandas as pd\n",
    "import theano\n",
    "import theano.tensor as T\n",
    "import matplotlib.pyplot as plt\n",
    "\n",
    "theano.__version__"
   ]
  },
  {
   "cell_type": "code",
   "execution_count": 2,
   "metadata": {
    "collapsed": true
   },
   "outputs": [],
   "source": [
    "# Funcion para cargar los datos de MNIST \n",
    "\n",
    "# los lee con Pandas, los convierte a matriz, los randomiza, los normaliza y le agrega targets\n",
    "\n",
    "def get_normalized_data():\n",
    "    print(\"Leyendo y transformando los datos...\")\n",
    "\n",
    "    # originalmente el path era ../large_files/train.csv (pero lo movi para no cargar Dropbox)\n",
    "    if not os.path.exists('/home/jorge/data/MNIST/train.csv'):\n",
    "        print('Parece que no existe train.csv')\n",
    "        print('Bajarlo de https://www.kaggle.com/c/digit-recognizer')\n",
    "        exit()\n",
    "\n",
    "    df = pd.read_csv('/home/jorge/data/MNIST/train.csv')\n",
    "    \n",
    "    print \"Leyendo...\"\n",
    "    data = df.as_matrix().astype(np.float32)\n",
    "    \n",
    "    print \"Randomizando...\"\n",
    "    np.random.shuffle(data)\n",
    "    X = data[:, 1:]\n",
    "    \n",
    "    print \"Normalizando...\"    \n",
    "    mu = X.mean(axis=0)\n",
    "    std = X.std(axis=0)\n",
    "    np.place(std, std == 0, 1)\n",
    "    X = (X - mu) / std \n",
    "    \n",
    "    print \"Cargando los targets...\"\n",
    "    Y = data[:, 0]\n",
    "    \n",
    "    print \"Completado\"    \n",
    "    return X, Y"
   ]
  },
  {
   "cell_type": "code",
   "execution_count": 3,
   "metadata": {
    "collapsed": true
   },
   "outputs": [],
   "source": [
    "# One-hot encoding\n",
    "def y2indicator(y):\n",
    "    N = len(y)\n",
    "    y = y.astype(np.int32)\n",
    "    ind = np.zeros((N, 10))\n",
    "    for i in range(N):\n",
    "        ind[i, y[i]] = 1\n",
    "    return ind"
   ]
  },
  {
   "cell_type": "code",
   "execution_count": 4,
   "metadata": {
    "collapsed": true
   },
   "outputs": [],
   "source": [
    "# Funcion que calcula el error\n",
    "def error_rate(p, t):\n",
    "    return np.mean(p != t)\n"
   ]
  },
  {
   "cell_type": "code",
   "execution_count": 5,
   "metadata": {
    "collapsed": true
   },
   "outputs": [],
   "source": [
    "# Versiones anteriores de Theano no tenian la RELU, asi que la definimos por si acaso\n",
    "def relu(a):\n",
    "    return a * (a > 0)"
   ]
  },
  {
   "cell_type": "markdown",
   "metadata": {},
   "source": [
    "### Paso 1: Obtenemos los  datos, definimos las variables de trabajo y asignamos pesos aleatorios"
   ]
  },
  {
   "cell_type": "code",
   "execution_count": 6,
   "metadata": {},
   "outputs": [
    {
     "name": "stdout",
     "output_type": "stream",
     "text": [
      "Leyendo y transformando los datos...\n",
      "Leyendo...\n",
      "Randomizando...\n",
      "Normalizando...\n",
      "Cargando los targets...\n",
      "Completado\n",
      "(40000, 784)\n"
     ]
    }
   ],
   "source": [
    "X, Y = get_normalized_data()\n",
    "\n",
    "max_iter = 20\n",
    "print_period = 10\n",
    "\n",
    "lr = 0.00004\n",
    "reg = 0.01\n",
    "\n",
    "Xtrain = X[:-2000,]\n",
    "Ytrain = Y[:-2000]\n",
    "Xtest  = X[-2000:,]\n",
    "Ytest  = Y[-2000:]\n",
    "Ytrain_ind = y2indicator(Ytrain)\n",
    "Ytest_ind = y2indicator(Ytest)\n",
    "\n",
    "print Xtrain.shape\n",
    "\n",
    "N, D = Xtrain.shape\n",
    "batch_sz = 500\n",
    "n_batches = N / batch_sz\n",
    "\n",
    "M = 300\n",
    "K = 10\n",
    "W1_init = np.random.randn(D, M) / 28\n",
    "b1_init = np.zeros(M)\n",
    "W2_init = np.random.randn(M, K) / np.sqrt(M)\n",
    "b2_init = np.zeros(K)"
   ]
  },
  {
   "cell_type": "markdown",
   "metadata": {},
   "source": [
    "### Paso 2: definimos las matrices que serán INPUT y las variables shared que se actualizan "
   ]
  },
  {
   "cell_type": "code",
   "execution_count": 8,
   "metadata": {
    "collapsed": true
   },
   "outputs": [],
   "source": [
    "# inputs\n",
    "thX = T.matrix('X')\n",
    "thT = T.matrix('T')\n",
    "\n",
    "# shared\n",
    "W1 = theano.shared(W1_init, 'W1')\n",
    "b1 = theano.shared(b1_init, 'b1')\n",
    "W2 = theano.shared(W2_init, 'W2')\n",
    "b2 = theano.shared(b2_init, 'b2')"
   ]
  },
  {
   "cell_type": "markdown",
   "metadata": {},
   "source": [
    "### Aqui definimos las operaciones de la capa hidden y de la salida\n",
    "usamos directamente las funciones incluidas en Theano de la clase del tensor T"
   ]
  },
  {
   "cell_type": "code",
   "execution_count": 10,
   "metadata": {
    "collapsed": true
   },
   "outputs": [],
   "source": [
    "thZ = T.nnet.relu(thX.dot(W1) + b1 ) # relu esta incluido en la version 0.7.1... pero por si acaso se incluye\n",
    "thY = T.nnet.softmax( thZ.dot(W2) + b2 )"
   ]
  },
  {
   "cell_type": "markdown",
   "metadata": {},
   "source": [
    "### Definimos también la funcion de coste y la funcion que calcula la prediccion"
   ]
  },
  {
   "cell_type": "code",
   "execution_count": 11,
   "metadata": {
    "collapsed": true
   },
   "outputs": [],
   "source": [
    "cost = -(thT * T.log(thY)).sum() + reg*((W1*W1).sum() + (b1*b1).sum() + (W2*W2).sum() + (b2*b2).sum())\n",
    "prediction = T.argmax(thY, axis=1)"
   ]
  },
  {
   "cell_type": "markdown",
   "metadata": {},
   "source": [
    "### Paso 3: Entrenamos (basicamente es hacer el update de los pesos)"
   ]
  },
  {
   "cell_type": "code",
   "execution_count": 12,
   "metadata": {
    "collapsed": true
   },
   "outputs": [],
   "source": [
    "# Incluimos regularizacion como parte del coste porque también es derivado automaticamente!\n",
    "# update_W1 = W1 - lr*T.grad(cost, W1)\n",
    "# update_b1 = b1 - lr*T.grad(cost, b1)\n",
    "# update_W2 = W2 - lr*T.grad(cost, W2)\n",
    "# update_b2 = b2 - lr*T.grad(cost, b2)\n",
    "\n",
    "update_W1 = W1 - lr*(T.grad(cost, W1) + reg*W1)\n",
    "update_b1 = b1 - lr*(T.grad(cost, b1) + reg*b1)\n",
    "update_W2 = W2 - lr*(T.grad(cost, W2) + reg*W2)\n",
    "update_b2 = b2 - lr*(T.grad(cost, b2) + reg*b2)\n"
   ]
  },
  {
   "cell_type": "code",
   "execution_count": 13,
   "metadata": {},
   "outputs": [
    {
     "name": "stderr",
     "output_type": "stream",
     "text": [
      "WARNING (theano.configdefaults): install mkl with `conda install mkl-service`: No module named mkl\n"
     ]
    }
   ],
   "source": [
    "# Para entrenar, debemos indicar los INPUTS y las variables shared que se modifican y como (los UPDATES)\n",
    "train = theano.function(inputs=[thX, thT],\n",
    "                        updates=[(W1, update_W1),\n",
    "                                 (b1, update_b1), \n",
    "                                 (W2, update_W2), \n",
    "                                 (b2, update_b2)\n",
    "                                ],\n",
    "                       )"
   ]
  },
  {
   "cell_type": "code",
   "execution_count": 14,
   "metadata": {
    "collapsed": true
   },
   "outputs": [],
   "source": [
    "# creamos otra función para esto porque queremos que pueda atacar todo el dataset\n",
    "get_prediction = theano.function(inputs=[thX, thT],\n",
    "                                 outputs=[cost, prediction],\n",
    "                                )"
   ]
  },
  {
   "cell_type": "code",
   "execution_count": 15,
   "metadata": {},
   "outputs": [
    {
     "name": "stdout",
     "output_type": "stream",
     "text": [
      "Coste y error en la iteracion i=0, j=0: 4975.132 / 0.909\n",
      "Coste y error en la iteracion i=0, j=10: 3770.513 / 0.551\n",
      "Coste y error en la iteracion i=0, j=20: 2982.957 / 0.342\n",
      "Coste y error en la iteracion i=0, j=30: 2467.666 / 0.271\n",
      "Coste y error en la iteracion i=0, j=40: 2117.387 / 0.220\n",
      "Coste y error en la iteracion i=0, j=50: 1864.236 / 0.208\n",
      "Coste y error en la iteracion i=0, j=60: 1673.495 / 0.188\n",
      "Coste y error en la iteracion i=0, j=70: 1528.148 / 0.171\n",
      "Coste y error en la iteracion i=1, j=0: 1411.589 / 0.160\n",
      "Coste y error en la iteracion i=1, j=10: 1319.070 / 0.153\n",
      "Coste y error en la iteracion i=1, j=20: 1242.615 / 0.147\n",
      "Coste y error en la iteracion i=1, j=30: 1177.311 / 0.140\n",
      "Coste y error en la iteracion i=1, j=40: 1123.124 / 0.136\n",
      "Coste y error en la iteracion i=1, j=50: 1076.121 / 0.133\n",
      "Coste y error en la iteracion i=1, j=60: 1034.385 / 0.130\n",
      "Coste y error en la iteracion i=1, j=70: 998.377 / 0.126\n",
      "Coste y error en la iteracion i=2, j=0: 965.312 / 0.122\n",
      "Coste y error en la iteracion i=2, j=10: 937.879 / 0.118\n",
      "Coste y error en la iteracion i=2, j=20: 912.606 / 0.118\n",
      "Coste y error en la iteracion i=2, j=30: 888.587 / 0.115\n",
      "Coste y error en la iteracion i=2, j=40: 867.778 / 0.111\n",
      "Coste y error en la iteracion i=2, j=50: 849.056 / 0.113\n",
      "Coste y error en la iteracion i=2, j=60: 831.469 / 0.111\n",
      "Coste y error en la iteracion i=2, j=70: 815.569 / 0.109\n",
      "Coste y error en la iteracion i=3, j=0: 800.377 / 0.108\n",
      "Coste y error en la iteracion i=3, j=10: 787.438 / 0.106\n",
      "Coste y error en la iteracion i=3, j=20: 774.985 / 0.106\n",
      "Coste y error en la iteracion i=3, j=30: 762.106 / 0.104\n",
      "Coste y error en la iteracion i=3, j=40: 750.828 / 0.102\n",
      "Coste y error en la iteracion i=3, j=50: 740.619 / 0.104\n",
      "Coste y error en la iteracion i=3, j=60: 730.727 / 0.100\n",
      "Coste y error en la iteracion i=3, j=70: 721.449 / 0.100\n",
      "Coste y error en la iteracion i=4, j=0: 712.864 / 0.097\n",
      "Coste y error en la iteracion i=4, j=10: 705.339 / 0.096\n",
      "Coste y error en la iteracion i=4, j=20: 697.772 / 0.095\n",
      "Coste y error en la iteracion i=4, j=30: 689.355 / 0.093\n",
      "Coste y error en la iteracion i=4, j=40: 681.995 / 0.093\n",
      "Coste y error en la iteracion i=4, j=50: 675.413 / 0.091\n",
      "Coste y error en la iteracion i=4, j=60: 668.834 / 0.091\n",
      "Coste y error en la iteracion i=4, j=70: 662.644 / 0.090\n",
      "Coste y error en la iteracion i=5, j=0: 656.961 / 0.089\n",
      "Coste y error en la iteracion i=5, j=10: 651.999 / 0.089\n",
      "Coste y error en la iteracion i=5, j=20: 646.842 / 0.088\n",
      "Coste y error en la iteracion i=5, j=30: 640.749 / 0.087\n",
      "Coste y error en la iteracion i=5, j=40: 635.381 / 0.087\n",
      "Coste y error en la iteracion i=5, j=50: 630.651 / 0.087\n",
      "Coste y error en la iteracion i=5, j=60: 625.859 / 0.086\n",
      "Coste y error en la iteracion i=5, j=70: 621.355 / 0.085\n",
      "Coste y error en la iteracion i=6, j=0: 617.282 / 0.084\n",
      "Coste y error en la iteracion i=6, j=10: 613.736 / 0.085\n",
      "Coste y error en la iteracion i=6, j=20: 609.980 / 0.085\n",
      "Coste y error en la iteracion i=6, j=30: 605.257 / 0.083\n",
      "Coste y error en la iteracion i=6, j=40: 601.038 / 0.082\n",
      "Coste y error en la iteracion i=6, j=50: 597.340 / 0.083\n",
      "Coste y error en la iteracion i=6, j=60: 593.556 / 0.082\n",
      "Coste y error en la iteracion i=6, j=70: 590.096 / 0.081\n",
      "Coste y error en la iteracion i=7, j=0: 587.049 / 0.080\n",
      "Coste y error en la iteracion i=7, j=10: 584.306 / 0.081\n",
      "Coste y error en la iteracion i=7, j=20: 581.411 / 0.081\n",
      "Coste y error en la iteracion i=7, j=30: 577.626 / 0.080\n",
      "Coste y error en la iteracion i=7, j=40: 574.159 / 0.079\n",
      "Coste y error en la iteracion i=7, j=50: 571.163 / 0.078\n",
      "Coste y error en la iteracion i=7, j=60: 568.032 / 0.077\n",
      "Coste y error en la iteracion i=7, j=70: 565.292 / 0.077\n",
      "Coste y error en la iteracion i=8, j=0: 562.937 / 0.075\n",
      "Coste y error en la iteracion i=8, j=10: 560.787 / 0.076\n",
      "Coste y error en la iteracion i=8, j=20: 558.486 / 0.076\n",
      "Coste y error en la iteracion i=8, j=30: 555.317 / 0.074\n",
      "Coste y error en la iteracion i=8, j=40: 552.363 / 0.074\n",
      "Coste y error en la iteracion i=8, j=50: 549.833 / 0.075\n",
      "Coste y error en la iteracion i=8, j=60: 547.134 / 0.074\n",
      "Coste y error en la iteracion i=8, j=70: 544.890 / 0.073\n",
      "Coste y error en la iteracion i=9, j=0: 543.009 / 0.072\n",
      "Coste y error en la iteracion i=9, j=10: 541.264 / 0.073\n",
      "Coste y error en la iteracion i=9, j=20: 539.405 / 0.073\n",
      "Coste y error en la iteracion i=9, j=30: 536.699 / 0.073\n",
      "Coste y error en la iteracion i=9, j=40: 534.109 / 0.073\n",
      "Coste y error en la iteracion i=9, j=50: 531.901 / 0.071\n",
      "Coste y error en la iteracion i=9, j=60: 529.510 / 0.071\n",
      "Coste y error en la iteracion i=9, j=70: 527.625 / 0.071\n",
      "Coste y error en la iteracion i=10, j=0: 526.099 / 0.071\n",
      "Coste y error en la iteracion i=10, j=10: 524.654 / 0.071\n",
      "Coste y error en la iteracion i=10, j=20: 523.119 / 0.071\n",
      "Coste y error en la iteracion i=10, j=30: 520.778 / 0.070\n",
      "Coste y error en la iteracion i=10, j=40: 518.462 / 0.070\n",
      "Coste y error en la iteracion i=10, j=50: 516.501 / 0.070\n",
      "Coste y error en la iteracion i=10, j=60: 514.347 / 0.070\n",
      "Coste y error en la iteracion i=10, j=70: 512.742 / 0.069\n",
      "Coste y error en la iteracion i=11, j=0: 511.476 / 0.070\n",
      "Coste y error en la iteracion i=11, j=10: 510.264 / 0.069\n",
      "Coste y error en la iteracion i=11, j=20: 508.960 / 0.068\n",
      "Coste y error en la iteracion i=11, j=30: 506.885 / 0.068\n",
      "Coste y error en la iteracion i=11, j=40: 504.767 / 0.069\n",
      "Coste y error en la iteracion i=11, j=50: 502.970 / 0.069\n",
      "Coste y error en la iteracion i=11, j=60: 500.979 / 0.069\n",
      "Coste y error en la iteracion i=11, j=70: 499.568 / 0.069\n",
      "Coste y error en la iteracion i=12, j=0: 498.489 / 0.069\n",
      "Coste y error en la iteracion i=12, j=10: 497.470 / 0.068\n",
      "Coste y error en la iteracion i=12, j=20: 496.342 / 0.068\n",
      "Coste y error en la iteracion i=12, j=30: 494.484 / 0.068\n",
      "Coste y error en la iteracion i=12, j=40: 492.536 / 0.068\n",
      "Coste y error en la iteracion i=12, j=50: 490.882 / 0.069\n",
      "Coste y error en la iteracion i=12, j=60: 489.024 / 0.069\n",
      "Coste y error en la iteracion i=12, j=70: 487.780 / 0.069\n",
      "Coste y error en la iteracion i=13, j=0: 486.866 / 0.068\n",
      "Coste y error en la iteracion i=13, j=10: 486.001 / 0.068\n",
      "Coste y error en la iteracion i=13, j=20: 485.015 / 0.069\n",
      "Coste y error en la iteracion i=13, j=30: 483.380 / 0.068\n",
      "Coste y error en la iteracion i=13, j=40: 481.564 / 0.068\n",
      "Coste y error en la iteracion i=13, j=50: 480.033 / 0.067\n",
      "Coste y error en la iteracion i=13, j=60: 478.275 / 0.067\n",
      "Coste y error en la iteracion i=13, j=70: 477.169 / 0.066\n",
      "Coste y error en la iteracion i=14, j=0: 476.380 / 0.065\n",
      "Coste y error en la iteracion i=14, j=10: 475.636 / 0.067\n",
      "Coste y error en la iteracion i=14, j=20: 474.779 / 0.068\n",
      "Coste y error en la iteracion i=14, j=30: 473.319 / 0.066\n",
      "Coste y error en la iteracion i=14, j=40: 471.625 / 0.065\n",
      "Coste y error en la iteracion i=14, j=50: 470.195 / 0.065\n",
      "Coste y error en la iteracion i=14, j=60: 468.523 / 0.065\n",
      "Coste y error en la iteracion i=14, j=70: 467.524 / 0.066\n",
      "Coste y error en la iteracion i=15, j=0: 466.842 / 0.064\n",
      "Coste y error en la iteracion i=15, j=10: 466.199 / 0.065\n",
      "Coste y error en la iteracion i=15, j=20: 465.455 / 0.066\n",
      "Coste y error en la iteracion i=15, j=30: 464.151 / 0.065\n",
      "Coste y error en la iteracion i=15, j=40: 462.544 / 0.064\n",
      "Coste y error en la iteracion i=15, j=50: 461.181 / 0.065\n",
      "Coste y error en la iteracion i=15, j=60: 459.580 / 0.064\n",
      "Coste y error en la iteracion i=15, j=70: 458.668 / 0.064\n",
      "Coste y error en la iteracion i=16, j=0: 458.086 / 0.064\n",
      "Coste y error en la iteracion i=16, j=10: 457.533 / 0.065\n",
      "Coste y error en la iteracion i=16, j=20: 456.864 / 0.064\n",
      "Coste y error en la iteracion i=16, j=30: 455.690 / 0.065\n",
      "Coste y error en la iteracion i=16, j=40: 454.171 / 0.064\n",
      "Coste y error en la iteracion i=16, j=50: 452.879 / 0.065\n",
      "Coste y error en la iteracion i=16, j=60: 451.338 / 0.064\n",
      "Coste y error en la iteracion i=16, j=70: 450.494 / 0.061\n",
      "Coste y error en la iteracion i=17, j=0: 450.001 / 0.061\n",
      "Coste y error en la iteracion i=17, j=10: 449.523 / 0.065\n",
      "Coste y error en la iteracion i=17, j=20: 448.922 / 0.063\n",
      "Coste y error en la iteracion i=17, j=30: 447.846 / 0.064\n",
      "Coste y error en la iteracion i=17, j=40: 446.408 / 0.063\n",
      "Coste y error en la iteracion i=17, j=50: 445.175 / 0.062\n",
      "Coste y error en la iteracion i=17, j=60: 443.701 / 0.064\n"
     ]
    },
    {
     "name": "stdout",
     "output_type": "stream",
     "text": [
      "Coste y error en la iteracion i=17, j=70: 442.908 / 0.062\n",
      "Coste y error en la iteracion i=18, j=0: 442.485 / 0.059\n",
      "Coste y error en la iteracion i=18, j=10: 442.061 / 0.061\n",
      "Coste y error en la iteracion i=18, j=20: 441.541 / 0.062\n",
      "Coste y error en la iteracion i=18, j=30: 440.556 / 0.062\n",
      "Coste y error en la iteracion i=18, j=40: 439.194 / 0.061\n",
      "Coste y error en la iteracion i=18, j=50: 438.015 / 0.062\n",
      "Coste y error en la iteracion i=18, j=60: 436.591 / 0.061\n",
      "Coste y error en la iteracion i=18, j=70: 435.858 / 0.059\n",
      "Coste y error en la iteracion i=19, j=0: 435.486 / 0.059\n",
      "Coste y error en la iteracion i=19, j=10: 435.106 / 0.059\n",
      "Coste y error en la iteracion i=19, j=20: 434.634 / 0.060\n",
      "Coste y error en la iteracion i=19, j=30: 433.738 / 0.060\n",
      "Coste y error en la iteracion i=19, j=40: 432.437 / 0.059\n",
      "Coste y error en la iteracion i=19, j=50: 431.297 / 0.061\n",
      "Coste y error en la iteracion i=19, j=60: 429.917 / 0.060\n",
      "Coste y error en la iteracion i=19, j=70: 429.223 / 0.059\n"
     ]
    }
   ],
   "source": [
    "# Ahora lanzamos la accion\n",
    "\n",
    "#usamos 2 listas para plotear como evoluciona la funcion de coste y el error\n",
    "costs = []\n",
    "error = []\n",
    "\n",
    "for i in xrange(max_iter):\n",
    "    for j in xrange(n_batches):      # en Xbatch, Ybatch cargamos los datos de cada batch\n",
    "        Xbatch = Xtrain[j*batch_sz:(j*batch_sz + batch_sz),]\n",
    "        Ybatch = Ytrain_ind[j*batch_sz:(j*batch_sz + batch_sz),]\n",
    "\n",
    "        train(Xbatch, Ybatch)        # ejecutamos la funcion train que habiamos definido con sus INPUTS\n",
    "                                     # para actualizar los pesos    \n",
    "        if j % print_period == 0:\n",
    "            # para cada iteracion calculamos el coste, la prediccion y el error\n",
    "            cost_val, prediction_val = get_prediction(Xtest, Ytest_ind)\n",
    "            err = error_rate(prediction_val, Ytest)\n",
    "            \n",
    "            print \"Coste y error en la iteracion i=%d, j=%d: %.3f / %.3f\" % (i, j, cost_val, err)\n",
    "            costs.append(cost_val)\n",
    "            error.append(err)"
   ]
  },
  {
   "cell_type": "code",
   "execution_count": 16,
   "metadata": {},
   "outputs": [
    {
     "data": {
      "image/png": "[encoded data removed]",
      "text/plain": [
       "<matplotlib.figure.Figure at 0x7fcbd32f7150>"
      ]
     },
     "metadata": {},
     "output_type": "display_data"
    }
   ],
   "source": [
    "plt.xlabel(\"Muestras\")\n",
    "plt.ylabel(\"Coste\")\n",
    "plt.plot(costs)\n",
    "plt.show()"
   ]
  },
  {
   "cell_type": "code",
   "execution_count": 17,
   "metadata": {},
   "outputs": [
    {
     "data": {
      "image/png": "[encoded data removed]",
      "text/plain": [
       "<matplotlib.figure.Figure at 0x7fcbca3621d0>"
      ]
     },
     "metadata": {},
     "output_type": "display_data"
    }
   ],
   "source": [
    "plt.xlabel(\"Muestras\")\n",
    "plt.ylabel(\"Error\")\n",
    "plt.plot(error)\n",
    "plt.show()"
   ]
  }
 ],
 "metadata": {
  "kernelspec": {
   "display_name": "Python 2",
   "language": "python",
   "name": "python2"
  },
  "language_info": {
   "codemirror_mode": {
    "name": "ipython",
    "version": 2
   },
   "file_extension": ".py",
   "mimetype": "text/x-python",
   "name": "python",
   "nbconvert_exporter": "python",
   "pygments_lexer": "ipython2",
   "version": "2.7.13"
  }
 },
 "nbformat": 4,
 "nbformat_minor": 2
}
