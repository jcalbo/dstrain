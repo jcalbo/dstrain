{
 "cells": [
  {
   "cell_type": "markdown",
   "metadata": {},
   "source": [
    "# Word2Vec basic\n",
    "\n",
    "\n",
    "https://www.tensorflow.org/tutorials/word2vec\n",
    "\n",
    "This tutorial is meant to highlight the interesting, substantive parts of building a word2vec model in TensorFlow.\n",
    "\n",
    "- We start by giving the motivation for why we would want to represent words as vectors.\n",
    "- We look at the intuition behind the model and how it is trained (with a splash of math for good measure).\n",
    "- We also show a simple implementation of the model in TensorFlow.\n",
    "- Finally, we look at ways to make the naive version scale better.\n",
    "\n"
   ]
  },
  {
   "cell_type": "code",
   "execution_count": 1,
   "metadata": {
    "collapsed": true
   },
   "outputs": [],
   "source": [
    "\"\"\"Basic word2vec example.\"\"\"\n",
    "\n",
    "from __future__ import absolute_import\n",
    "from __future__ import division\n",
    "from __future__ import print_function\n",
    "\n",
    "import collections\n",
    "import math\n",
    "import os\n",
    "import random\n",
    "import zipfile\n",
    "\n",
    "import numpy as np\n",
    "from six.moves import urllib\n",
    "from six.moves import xrange  # pylint: disable=redefined-builtin\n",
    "import tensorflow as tf\n"
   ]
  },
  {
   "cell_type": "code",
   "execution_count": 2,
   "metadata": {
    "collapsed": true
   },
   "outputs": [],
   "source": [
    "# Step 1: Download the data.\n",
    "url = 'http://mattmahoney.net/dc/'\n",
    "\n",
    "def maybe_download(filename, expected_bytes):\n",
    "  \"\"\"Download a file if not present, and make sure it's the right size.\"\"\"\n",
    "  if not os.path.exists(filename):\n",
    "    filename, _ = urllib.request.urlretrieve(url + filename, filename)\n",
    "  statinfo = os.stat(filename)\n",
    "  if statinfo.st_size == expected_bytes:\n",
    "    print('Found and verified', filename)\n",
    "  else:\n",
    "    print(statinfo.st_size)\n",
    "    raise Exception('Failed to verify ' + filename + '. Can you get to it with a browser?')\n",
    "  return filename"
   ]
  },
  {
   "cell_type": "code",
   "execution_count": 3,
   "metadata": {},
   "outputs": [
    {
     "name": "stdout",
     "output_type": "stream",
     "text": [
      "Found and verified text8.zip\n"
     ]
    }
   ],
   "source": [
    "filename = maybe_download('text8.zip', 31344016)"
   ]
  },
  {
   "cell_type": "code",
   "execution_count": 4,
   "metadata": {},
   "outputs": [
    {
     "name": "stdout",
     "output_type": "stream",
     "text": [
      "Data size 17005207\n"
     ]
    }
   ],
   "source": [
    "# Read the data into a list of strings.\n",
    "def read_data(filename):\n",
    "  \"\"\"Extract the first file enclosed in a zip file as a list of words.\"\"\"\n",
    "  with zipfile.ZipFile(filename) as f:\n",
    "    data = tf.compat.as_str(f.read(f.namelist()[0])).split()\n",
    "  return data\n",
    "\n",
    "vocabulary = read_data(filename)\n",
    "print('Data size', len(vocabulary))\n",
    "\n"
   ]
  },
  {
   "cell_type": "code",
   "execution_count": 5,
   "metadata": {
    "collapsed": true
   },
   "outputs": [],
   "source": [
    "# Step 2: Build the dictionary and replace rare words with UNK token.\n",
    "vocabulary_size = 50000\n",
    "\n",
    "def build_dataset(words, n_words):\n",
    "  \"\"\"Process raw inputs into a dataset.\"\"\"\n",
    "  count = [['UNK', -1]]\n",
    "  count.extend(collections.Counter(words).most_common(n_words - 1))\n",
    "  dictionary = dict()\n",
    "  for word, _ in count:\n",
    "    dictionary[word] = len(dictionary)\n",
    "  data = list()\n",
    "  unk_count = 0\n",
    "  for word in words:\n",
    "    if word in dictionary:\n",
    "      index = dictionary[word]\n",
    "    else:\n",
    "      index = 0  # dictionary['UNK']\n",
    "      unk_count += 1\n",
    "    data.append(index)\n",
    "  count[0][1] = unk_count\n",
    "  reversed_dictionary = dict(zip(dictionary.values(), dictionary.keys()))\n",
    "  return data, count, dictionary, reversed_dictionary"
   ]
  },
  {
   "cell_type": "code",
   "execution_count": 6,
   "metadata": {},
   "outputs": [
    {
     "name": "stdout",
     "output_type": "stream",
     "text": [
      "Most common words (+UNK) [['UNK', 418391], ('the', 1061396), ('of', 593677), ('and', 416629), ('one', 411764)]\n",
      "Sample data [5239, 3084, 12, 6, 195, 2, 3137, 46, 59, 156] ['anarchism', 'originated', 'as', 'a', 'term', 'of', 'abuse', 'first', 'used', 'against']\n"
     ]
    }
   ],
   "source": [
    "data, count, dictionary, reverse_dictionary = build_dataset(vocabulary,\n",
    "                                                            vocabulary_size)\n",
    "del vocabulary  # Hint to reduce memory.\n",
    "print('Most common words (+UNK)', count[:5])\n",
    "print('Sample data', data[:10], [reverse_dictionary[i] for i in data[:10]])\n",
    "\n",
    "data_index = 0"
   ]
  },
  {
   "cell_type": "code",
   "execution_count": 7,
   "metadata": {
    "collapsed": true
   },
   "outputs": [],
   "source": [
    "# Step 3: Function to generate a training batch for the skip-gram model.\n",
    "\n",
    "def generate_batch(batch_size, num_skips, skip_window):\n",
    "  global data_index\n",
    "  assert batch_size % num_skips == 0\n",
    "  assert num_skips <= 2 * skip_window\n",
    "  batch = np.ndarray(shape=(batch_size), dtype=np.int32)\n",
    "  labels = np.ndarray(shape=(batch_size, 1), dtype=np.int32)\n",
    "  span = 2 * skip_window + 1  # [ skip_window target skip_window ]\n",
    "  buffer = collections.deque(maxlen=span)\n",
    "\n",
    "  if data_index + span > len(data):\n",
    "    data_index = 0\n",
    "  buffer.extend(data[data_index:data_index + span])\n",
    "  data_index += span\n",
    "    \n",
    "  for i in range(batch_size // num_skips):\n",
    "    target = skip_window  # target label at the center of the buffer\n",
    "    targets_to_avoid = [skip_window]\n",
    "    for j in range(num_skips):\n",
    "      while target in targets_to_avoid:\n",
    "        target = random.randint(0, span - 1)\n",
    "      targets_to_avoid.append(target)\n",
    "      batch[i * num_skips + j] = buffer[skip_window]\n",
    "      labels[i * num_skips + j, 0] = buffer[target]\n",
    "    if data_index == len(data):\n",
    "      buffer[:] = data[:span]\n",
    "      data_index = span\n",
    "    else:\n",
    "      buffer.append(data[data_index])\n",
    "      data_index += 1\n",
    "  \n",
    "  # Backtrack a little bit to avoid skipping words in the end of a batch\n",
    "  data_index = (data_index + len(data) - span) % len(data)\n",
    "  return batch, labels\n"
   ]
  },
  {
   "cell_type": "code",
   "execution_count": 8,
   "metadata": {},
   "outputs": [
    {
     "name": "stdout",
     "output_type": "stream",
     "text": [
      "3084 originated -> 5239 anarchism\n",
      "3084 originated -> 12 as\n",
      "12 as -> 6 a\n",
      "12 as -> 3084 originated\n",
      "6 a -> 195 term\n",
      "6 a -> 12 as\n",
      "195 term -> 6 a\n",
      "195 term -> 2 of\n"
     ]
    }
   ],
   "source": [
    "batch, labels = generate_batch(batch_size=8, num_skips=2, skip_window=1)\n",
    "\n",
    "for i in range(8):\n",
    "  print(batch[i], reverse_dictionary[batch[i]],\n",
    "        '->', labels[i, 0], reverse_dictionary[labels[i, 0]])"
   ]
  },
  {
   "cell_type": "code",
   "execution_count": 9,
   "metadata": {
    "collapsed": true
   },
   "outputs": [],
   "source": [
    "# Step 4: Build and train a skip-gram model.\n",
    "\n",
    "batch_size = 128\n",
    "embedding_size = 128  # Dimension of the embedding vector.\n",
    "skip_window = 1       # How many words to consider left and right.\n",
    "num_skips = 2         # How many times to reuse an input to generate a label.\n",
    "\n",
    "# We pick a random validation set to sample nearest neighbors. Here we limit the\n",
    "# validation samples to the words that have a low numeric ID, which by\n",
    "# construction are also the most frequent.\n",
    "valid_size = 16     # Random set of words to evaluate similarity on.\n",
    "valid_window = 100  # Only pick dev samples in the head of the distribution.\n",
    "valid_examples = np.random.choice(valid_window, valid_size, replace=False)\n",
    "num_sampled = 64    # Number of negative examples to sample.\n",
    "\n",
    "graph = tf.Graph()\n",
    "\n",
    "with graph.as_default():\n",
    "\n",
    "  # Input data.\n",
    "  train_inputs = tf.placeholder(tf.int32, shape=[batch_size])\n",
    "  train_labels = tf.placeholder(tf.int32, shape=[batch_size, 1])\n",
    "  valid_dataset = tf.constant(valid_examples, dtype=tf.int32)\n",
    "\n",
    "  # Ops and variables pinned to the CPU because of missing GPU implementation\n",
    "  with tf.device('/cpu:0'):\n",
    "    # Look up embeddings for inputs.\n",
    "    embeddings = tf.Variable(\n",
    "        tf.random_uniform([vocabulary_size, embedding_size], -1.0, 1.0))\n",
    "    embed = tf.nn.embedding_lookup(embeddings, train_inputs)\n",
    "\n",
    "  # Construct the variables for the NCE loss\n",
    "  #  The noise-contrastive estimation loss is defined in terms of a logistic regression model. \n",
    "  #  For this, we need to define the weights and biases for each word in the vocabulary \n",
    "  #  (also called the output weights as opposed to the input embeddings).\n",
    "    nce_weights = tf.Variable(\n",
    "        tf.truncated_normal([vocabulary_size, embedding_size],\n",
    "                            stddev=1.0 / math.sqrt(embedding_size)))\n",
    "    nce_biases = tf.Variable(tf.zeros([vocabulary_size]))\n",
    "\n",
    "  # Compute the average NCE loss for the batch.\n",
    "\n",
    "    \n",
    "  # tf.nce_loss automatically draws a new sample of the negative labels each word\n",
    "    \n",
    "  # time we evaluate the loss.\n",
    "  loss = tf.reduce_mean(\n",
    "      tf.nn.nce_loss(weights=nce_weights,\n",
    "                     biases=nce_biases,\n",
    "                     labels=train_labels,\n",
    "                     inputs=embed,\n",
    "                     num_sampled=num_sampled,\n",
    "                     num_classes=vocabulary_size))\n",
    "\n",
    "  # Construct the SGD optimizer using a learning rate of 1.0.\n",
    "  optimizer = tf.train.GradientDescentOptimizer(1.0).minimize(loss)\n",
    "\n",
    "  # Compute the cosine similarity between minibatch examples and all embeddings.\n",
    "  norm = tf.sqrt(tf.reduce_sum(tf.square(embeddings), 1, keep_dims=True))\n",
    "  normalized_embeddings = embeddings / norm\n",
    "  valid_embeddings = tf.nn.embedding_lookup(\n",
    "      normalized_embeddings, valid_dataset)\n",
    "  similarity = tf.matmul(\n",
    "      valid_embeddings, normalized_embeddings, transpose_b=True)\n",
    "\n",
    "  # Add variable initializer.\n",
    "  init = tf.global_variables_initializer()\n",
    "\n"
   ]
  },
  {
   "cell_type": "code",
   "execution_count": 15,
   "metadata": {},
   "outputs": [
    {
     "name": "stdout",
     "output_type": "stream",
     "text": [
      "Initialized\n",
      "Average loss at step  0 :  276.632202148\n",
      "Nearest to american: forbes, interdisciplinarity, hippo, linguist, patrol, perpetuation, cools, quantifier,\n",
      "Nearest to were: thorn, evade, scribes, alden, sacked, below, neisse, outlawing,\n",
      "Nearest to however: snare, acquainted, folded, biopolymers, phraseology, kesey, skookum, sibley,\n",
      "Nearest to he: scorers, decisions, place, bukhara, marquis, donato, melt, alamo,\n",
      "Nearest to was: ufc, hydrologic, acid, getting, willi, monochrome, limestones, anchorages,\n",
      "Nearest to so: giotto, resource, lcs, stored, fashioned, planted, boomerang, converse,\n",
      "Nearest to years: revolved, fermilab, kursk, vasili, wikibook, promptly, tigray, unmixed,\n",
      "Nearest to up: bocce, grounding, warmth, expound, aaron, showing, tuamotu, vlsi,\n",
      "Nearest to s: gorillaz, metallic, undertaking, vases, mujahideen, events, sherbrooke, dionysius,\n",
      "Nearest to on: rendering, byrd, served, playable, quake, philosophy, quantum, lou,\n",
      "Nearest to over: oahu, godf, militarist, harford, agent, chromosome, inexact, sauk,\n",
      "Nearest to seven: shay, fonni, scanned, slack, digitization, intelligences, inhumane, coupled,\n",
      "Nearest to there: rimini, wicca, mozambique, lockport, multidimensional, bugtraq, sweeping, ring,\n",
      "Nearest to d: polisario, adic, extract, circassians, expression, balanced, favour, keitai,\n",
      "Nearest to at: regulator, slurred, bushnell, unmistakable, hairs, alienate, crewe, pie,\n",
      "Nearest to UNK: renoir, stillman, mazar, stench, humanitarians, billing, hypnotism, fists,\n",
      "Average loss at step  2000 :  113.763892662\n",
      "Average loss at step  4000 :  51.3059676487\n",
      "Average loss at step  6000 :  32.8859740772\n",
      "Average loss at step  8000 :  23.4867958395\n",
      "Average loss at step  10000 :  18.03369956\n",
      "Nearest to american: programme, rest, adopted, patrol, lagos, UNK, effort, cardiomyopathy,\n",
      "Nearest to were: bats, below, redistribution, thaler, consoles, castrati, aes, and,\n",
      "Nearest to however: folded, acquainted, leu, parallel, flynt, sarawak, parliament, zadar,\n",
      "Nearest to he: ruble, leads, complexes, politician, electrolysis, melt, place, thaler,\n",
      "Nearest to was: is, dinar, and, rupee, had, anthropology, cipher, arrows,\n",
      "Nearest to so: resource, rupee, stored, right, diver, moivre, tachycardia, planted,\n",
      "Nearest to years: zero, six, promptly, cardiomyopathy, amorphous, revolved, dinar, election,\n",
      "Nearest to up: cardiomyopathy, crabs, showing, habr, frying, critic, aaron, microphone,\n",
      "Nearest to s: ona, and, dinar, cardiomyopathy, undertaking, beast, rupee, metallic,\n",
      "Nearest to on: in, served, linguistics, by, corpus, diploma, undesirable, narrowed,\n",
      "Nearest to over: and, agent, UNK, clade, cadmium, oahu, crabs, friend,\n",
      "Nearest to seven: nine, hom, dinar, mitral, zero, six, two, cardiomyopathy,\n",
      "Nearest to there: mozambique, thaler, crabs, and, once, dal, logo, after,\n",
      "Nearest to d: expression, blockers, favour, balanced, wilderness, thaler, sub, representation,\n",
      "Nearest to at: with, of, highest, partially, popper, rupee, schools, thaler,\n",
      "Nearest to UNK: cardiomyopathy, one, thaler, rupee, and, dinar, cp, cricket,\n",
      "Average loss at step  12000 :  13.786795503\n",
      "Average loss at step  14000 :  11.5387980202\n",
      "Average loss at step  16000 :  10.0772575308\n",
      "Average loss at step  18000 :  9.37328070492\n",
      "Average loss at step  20000 :  7.96126666975\n",
      "Nearest to american: UNK, programme, rest, prelog, fachhochschule, adopted, linguist, carib,\n",
      "Nearest to were: are, is, bats, was, have, by, and, in,\n",
      "Nearest to however: perihelion, establishes, was, iit, zadar, rupee, acquainted, sarawak,\n",
      "Nearest to he: it, and, complexes, assassination, leads, politician, annotated, who,\n",
      "Nearest to was: is, dinar, had, rupee, were, has, fachhochschule, osaka,\n",
      "Nearest to so: resource, converse, stored, rupee, quirk, pci, warrior, taylor,\n",
      "Nearest to years: two, unmixed, promptly, revolved, six, zero, cardiomyopathy, amorphous,\n",
      "Nearest to up: showing, bocce, cardiomyopathy, aaron, habr, crabs, cbt, dinar,\n",
      "Nearest to s: and, zero, the, ona, dinar, hiroshima, five, cardiomyopathy,\n",
      "Nearest to on: in, by, for, and, linguistics, served, undesirable, encarta,\n",
      "Nearest to over: oahu, chromosome, clade, UNK, agent, iit, friend, agm,\n",
      "Nearest to seven: nine, dinar, hom, six, iit, cardiomyopathy, zero, fachhochschule,\n",
      "Nearest to there: they, it, mozambique, and, tudor, which, dal, magnetism,\n",
      "Nearest to d: expression, adic, blockers, favour, fachhochschule, balanced, pyrenees, pierrot,\n",
      "Nearest to at: with, in, and, highest, rupee, of, for, iit,\n",
      "Nearest to UNK: cardiomyopathy, dinar, iit, fachhochschule, busan, hiroshima, one, mitral,\n",
      "Average loss at step  22000 :  7.5673573674\n",
      "Average loss at step  24000 :  7.18460535479\n",
      "Average loss at step  26000 :  6.6922516185\n",
      "Average loss at step  28000 :  6.5194420284\n",
      "Average loss at step  30000 :  6.00550045455\n",
      "Nearest to american: programme, prelog, rest, elm, carib, pectin, fachhochschule, lagos,\n",
      "Nearest to were: are, was, have, bats, by, is, be, and,\n",
      "Nearest to however: and, perihelion, establishes, filings, iit, rupee, polyhedra, zadar,\n",
      "Nearest to he: it, they, who, assassination, complexes, politician, ruble, there,\n",
      "Nearest to was: is, had, has, were, dinar, by, as, rupee,\n",
      "Nearest to so: christchurch, resource, converse, rupee, fashioned, stored, warrior, quirk,\n",
      "Nearest to years: unmixed, promptly, two, revolved, cushitic, election, six, variously,\n",
      "Nearest to up: bocce, cardiomyopathy, aaron, showing, warmth, habr, choirs, crabs,\n",
      "Nearest to s: and, zero, the, dinar, or, hiroshima, rupee, five,\n",
      "Nearest to on: in, for, by, and, waxes, teal, from, before,\n",
      "Nearest to over: UNK, oahu, chromosome, drone, agm, diameters, iit, clade,\n",
      "Nearest to seven: nine, six, five, four, eight, zero, three, dinar,\n",
      "Nearest to there: it, they, which, tudor, mozambique, and, once, swans,\n",
      "Nearest to d: adic, UNK, blockers, expression, favour, pyrenees, bees, peacocks,\n",
      "Nearest to at: in, and, with, highest, for, thaler, iit, rupee,\n",
      "Nearest to UNK: cardiomyopathy, fachhochschule, dinar, vert, busan, iit, thaler, hiroshima,\n",
      "Average loss at step  32000 :  5.84555666161\n",
      "Average loss at step  34000 :  5.7466635406\n",
      "Average loss at step  36000 :  5.56868538523\n",
      "Average loss at step  38000 :  5.68859169996\n",
      "Average loss at step  40000 :  5.5537726028\n",
      "Nearest to american: programme, prelog, rest, sod, pectin, lagos, elm, carib,\n",
      "Nearest to were: are, was, have, is, by, bats, be, while,\n",
      "Nearest to however: but, that, perihelion, constituci, establishes, boutros, iit, rupee,\n",
      "Nearest to he: it, they, who, she, there, assassination, adenosine, complexes,\n",
      "Nearest to was: is, had, has, were, by, dinar, been, are,\n",
      "Nearest to so: christchurch, resource, fashioned, converse, warrior, attacker, furthered, predetermined,\n",
      "Nearest to years: unmixed, promptly, revolved, six, cushitic, modernism, two, variously,\n",
      "Nearest to up: bocce, aaron, cardiomyopathy, warmth, showing, habr, choirs, dinar,\n",
      "Nearest to s: and, dinar, hiroshima, zero, porpoise, rupee, fachhochschule, five,\n",
      "Nearest to on: in, teal, for, waxes, undesirable, from, peacocks, village,\n",
      "Nearest to over: oahu, drone, dentist, chromosome, four, cummins, about, militarist,\n",
      "Nearest to seven: six, eight, four, nine, five, three, zero, dinar,\n",
      "Nearest to there: they, it, he, which, tudor, mozambique, foucault, swans,\n",
      "Nearest to d: UNK, blockers, bees, adic, six, peacocks, fachhochschule, pyrenees,\n",
      "Nearest to at: in, with, and, highest, thaler, iit, rupee, for,\n",
      "Nearest to UNK: cardiomyopathy, fachhochschule, vert, globemaster, dinar, busan, four, thaler,\n",
      "Average loss at step  42000 :  5.556106179\n",
      "Average loss at step  44000 :  5.36483513868\n",
      "Average loss at step  46000 :  5.37828677177\n",
      "Average loss at step  48000 :  5.19419669843\n",
      "Average loss at step  50000 :  5.25175761974\n",
      "Nearest to american: programme, lagos, rest, british, effort, sod, pectin, prelog,\n",
      "Nearest to were: are, was, have, is, while, had, by, be,\n",
      "Nearest to however: but, that, constituci, perihelion, although, boutros, iit, establishes,\n",
      "Nearest to he: it, she, they, who, there, assassination, adenosine, mentats,\n",
      "Nearest to was: is, had, were, has, by, dinar, been, when,\n",
      "Nearest to so: christchurch, resource, converse, warrior, fashioned, attacker, predetermined, rupee,\n",
      "Nearest to years: unmixed, promptly, modernism, revolved, arslan, six, canyon, essay,\n",
      "Nearest to up: aaron, bocce, warmth, cardiomyopathy, habr, showing, lebedev, arcane,\n",
      "Nearest to s: and, his, porpoise, dinar, of, zero, the, hiroshima,\n",
      "Nearest to on: in, netbios, teal, for, waxes, two, at, and,\n",
      "Nearest to over: oahu, drone, about, at, dentist, cummins, reorganised, four,\n",
      "Nearest to seven: eight, six, five, four, nine, three, zero, one,\n",
      "Nearest to there: they, it, which, he, tudor, netbios, often, phenotype,\n",
      "Nearest to d: UNK, blockers, bees, pyrenees, fachhochschule, alps, b, biomedical,\n",
      "Nearest to at: in, with, for, highest, and, thaler, on, netbios,\n",
      "Nearest to UNK: cardiomyopathy, dinar, fachhochschule, busan, rooks, globemaster, mitral, four,\n"
     ]
    },
    {
     "name": "stdout",
     "output_type": "stream",
     "text": [
      "Average loss at step  52000 :  5.06059621942\n",
      "Average loss at step  54000 :  4.94935568023\n",
      "Average loss at step  56000 :  4.91661019814\n",
      "Average loss at step  58000 :  4.98861227667\n",
      "Average loss at step  60000 :  4.98305363476\n",
      "Nearest to american: british, programme, lagos, rest, effort, prelog, pectin, sod,\n",
      "Nearest to were: are, was, have, had, be, while, been, is,\n",
      "Nearest to however: but, although, that, constituci, and, perihelion, iit, which,\n",
      "Nearest to he: it, she, they, who, there, assassination, adenosine, this,\n",
      "Nearest to was: is, had, has, were, dinar, by, been, originally,\n",
      "Nearest to so: christchurch, resource, converse, attacker, fashioned, warrior, furthered, thaler,\n",
      "Nearest to years: unmixed, promptly, six, revolved, arslan, modernism, canyon, essay,\n",
      "Nearest to up: aaron, bocce, warmth, cardiomyopathy, habr, showing, lebedev, arcane,\n",
      "Nearest to s: his, dinar, rupee, and, hiroshima, porpoise, metamorphic, zero,\n",
      "Nearest to on: in, netbios, teal, waxes, through, peacocks, for, upon,\n",
      "Nearest to over: oahu, about, drone, cummins, dentist, reorganised, chromosome, wales,\n",
      "Nearest to seven: six, eight, five, four, nine, three, zero, dinar,\n",
      "Nearest to there: they, it, he, which, often, tudor, netbios, still,\n",
      "Nearest to d: UNK, b, blockers, pyrenees, biomedical, l, bees, historically,\n",
      "Nearest to at: in, highest, and, under, with, for, thaler, netbios,\n",
      "Nearest to UNK: cardiomyopathy, fachhochschule, iit, dinar, four, hiroshima, vert, seven,\n",
      "Average loss at step  62000 :  5.00190358174\n",
      "Average loss at step  64000 :  4.91502363145\n",
      "Average loss at step  66000 :  4.99494081426\n",
      "Average loss at step  68000 :  4.87218035173\n",
      "Average loss at step  70000 :  4.72912064761\n",
      "Nearest to american: british, lagos, programme, wp, french, rest, prelog, effort,\n",
      "Nearest to were: are, was, have, had, be, been, while, is,\n",
      "Nearest to however: but, although, that, constituci, which, and, iit, perihelion,\n",
      "Nearest to he: it, she, they, who, there, assassination, adenosine, sal,\n",
      "Nearest to was: is, had, has, were, by, dinar, been, being,\n",
      "Nearest to so: christchurch, attacker, resource, fashioned, warrior, furthered, waxes, thaler,\n",
      "Nearest to years: unmixed, promptly, six, arslan, four, canyon, seven, revolved,\n",
      "Nearest to up: aaron, bocce, cardiomyopathy, warmth, showing, lebedev, down, habr,\n",
      "Nearest to s: zero, his, dinar, hiroshima, porpoise, rupee, netbios, and,\n",
      "Nearest to on: in, teal, netbios, upon, through, fushimi, for, peacocks,\n",
      "Nearest to over: about, oahu, drone, cummins, dentist, reorganised, wales, neutronic,\n",
      "Nearest to seven: eight, six, five, four, nine, three, zero, dinar,\n",
      "Nearest to there: it, they, he, often, which, netbios, still, tudor,\n",
      "Nearest to d: UNK, b, quagga, blockers, l, pyrenees, k, biomedical,\n",
      "Nearest to at: in, under, highest, thaler, during, netbios, with, neutronic,\n",
      "Nearest to UNK: cardiomyopathy, globemaster, thaler, iit, fachhochschule, doves, hiroshima, dinar,\n",
      "Average loss at step  72000 :  4.73298527455\n",
      "Average loss at step  74000 :  4.78691282034\n",
      "Average loss at step  76000 :  4.78149633384\n",
      "Average loss at step  78000 :  4.75368867099\n",
      "Average loss at step  80000 :  4.83256365228\n",
      "Nearest to american: british, french, and, lagos, one, swift, d, pairing,\n",
      "Nearest to were: are, have, was, had, is, be, been, while,\n",
      "Nearest to however: but, although, constituci, that, where, which, while, taunus,\n",
      "Nearest to he: it, she, they, who, there, assassination, adenosine, gimmick,\n",
      "Nearest to was: is, had, has, were, dinar, by, became, being,\n",
      "Nearest to so: christchurch, furthered, attacker, waxes, fashioned, converse, thaler, warrior,\n",
      "Nearest to years: unmixed, promptly, six, modernism, arslan, canyon, revolved, seven,\n",
      "Nearest to up: aaron, bocce, down, lebedev, warmth, showing, cardiomyopathy, arcane,\n",
      "Nearest to s: and, zero, his, hiroshima, dinar, porpoise, two, rupee,\n",
      "Nearest to on: in, teal, upon, netbios, fushimi, peacocks, through, waxes,\n",
      "Nearest to over: about, oahu, cummins, drone, reorganised, dentist, wales, chromosome,\n",
      "Nearest to seven: six, eight, five, four, nine, three, zero, dinar,\n",
      "Nearest to there: they, it, he, often, netbios, still, which, tudor,\n",
      "Nearest to d: b, and, blockers, quagga, one, alps, biomedical, bees,\n",
      "Nearest to at: in, under, highest, during, netbios, thaler, for, with,\n",
      "Nearest to UNK: cardiomyopathy, fachhochschule, four, globemaster, taunus, five, iit, cp,\n",
      "Average loss at step  82000 :  4.71083894169\n",
      "Average loss at step  84000 :  4.69415196705\n",
      "Average loss at step  86000 :  4.69164486384\n",
      "Average loss at step  88000 :  4.69366860104\n",
      "Average loss at step  90000 :  4.45146956742\n",
      "Nearest to american: british, french, lagos, german, programme, quagga, swift, rest,\n",
      "Nearest to were: are, was, have, had, be, been, while, being,\n",
      "Nearest to however: but, although, that, constituci, while, which, where, stadtbahn,\n",
      "Nearest to he: it, she, they, who, there, mentats, adenosine, gimmick,\n",
      "Nearest to was: is, has, had, were, dinar, be, been, by,\n",
      "Nearest to so: christchurch, furthered, waxes, thaler, fashioned, converse, warrior, resource,\n",
      "Nearest to years: unmixed, promptly, six, canyon, seven, arslan, two, modernism,\n",
      "Nearest to up: aaron, down, bocce, cardiomyopathy, warmth, mael, lebedev, arcane,\n",
      "Nearest to s: his, hiroshima, porpoise, dinar, rupee, netbios, zero, spire,\n",
      "Nearest to on: in, upon, through, teal, netbios, at, peacocks, waxes,\n",
      "Nearest to over: about, oahu, cummins, reorganised, wales, szko, drone, neutronic,\n",
      "Nearest to seven: six, eight, four, five, nine, three, zero, dinar,\n",
      "Nearest to there: they, it, he, often, which, still, netbios, tudor,\n",
      "Nearest to d: b, blockers, biomedical, quagga, k, UNK, pyrenees, cp,\n",
      "Nearest to at: in, under, thaler, netbios, during, on, highest, christchurch,\n",
      "Nearest to UNK: stadtbahn, cardiomyopathy, iit, thaler, fachhochschule, globemaster, frying, taunus,\n",
      "Average loss at step  92000 :  4.69453407288\n",
      "Average loss at step  94000 :  4.70277503227\n",
      "Average loss at step  96000 :  4.70374666798\n",
      "Average loss at step  98000 :  4.7465736227\n",
      "Average loss at step  100000 :  4.65184142685\n",
      "Nearest to american: british, french, german, lagos, english, programme, rest, effort,\n",
      "Nearest to were: are, was, have, had, be, been, while, being,\n",
      "Nearest to however: but, although, constituci, that, while, and, where, taunus,\n",
      "Nearest to he: it, she, they, who, there, adenosine, mentats, phenotype,\n",
      "Nearest to was: is, had, has, were, became, when, dinar, been,\n",
      "Nearest to so: christchurch, furthered, waxes, fashioned, thaler, warrior, attacker, tachycardia,\n",
      "Nearest to years: unmixed, promptly, six, canyon, seven, shortly, revolved, five,\n",
      "Nearest to up: down, aaron, bocce, cardiomyopathy, warmth, off, mael, showing,\n",
      "Nearest to s: his, hiroshima, porpoise, netbios, zero, rupee, dinar, and,\n",
      "Nearest to on: in, upon, through, teal, at, netbios, peacocks, fushimi,\n",
      "Nearest to over: about, cummins, oahu, reorganised, wales, szko, neutronic, castiglione,\n",
      "Nearest to seven: eight, six, five, four, nine, three, zero, dinar,\n",
      "Nearest to there: they, it, he, often, still, which, usually, netbios,\n",
      "Nearest to d: b, UNK, blockers, quagga, k, biomedical, l, van,\n",
      "Nearest to at: in, under, during, on, netbios, highest, thaler, when,\n",
      "Nearest to UNK: cardiomyopathy, stadtbahn, fachhochschule, dinar, globemaster, iit, four, six,\n"
     ]
    }
   ],
   "source": [
    "# Step 5: Begin training.\n",
    "num_steps = 100001\n",
    "#num_steps = 50001\n",
    "\n",
    "with tf.Session(graph=graph) as session:\n",
    "  # We must initialize all variables before we use them.\n",
    "  init.run()\n",
    "  print('Initialized')\n",
    "\n",
    "  average_loss = 0\n",
    "  for step in xrange(num_steps):\n",
    "    batch_inputs, batch_labels = generate_batch(\n",
    "        batch_size, num_skips, skip_window)\n",
    "    feed_dict = {train_inputs: batch_inputs, train_labels: batch_labels}\n",
    "\n",
    "    # We perform one update step by evaluating the optimizer op (including it\n",
    "    # in the list of returned values for session.run()\n",
    "    _, loss_val = session.run([optimizer, loss], feed_dict=feed_dict)\n",
    "    average_loss += loss_val\n",
    "\n",
    "    if step % 2000 == 0:\n",
    "      if step > 0:\n",
    "        average_loss /= 2000\n",
    "      # The average loss is an estimate of the loss over the last 2000 batches.\n",
    "      print('Average loss at step ', step, ': ', average_loss)\n",
    "      average_loss = 0\n",
    "\n",
    "    # Note that this is expensive (~20% slowdown if computed every 500 steps)\n",
    "    if step % 10000 == 0:\n",
    "      sim = similarity.eval()\n",
    "      for i in xrange(valid_size):\n",
    "        valid_word = reverse_dictionary[valid_examples[i]]\n",
    "        top_k = 8  # number of nearest neighbors\n",
    "        nearest = (-sim[i, :]).argsort()[1:top_k + 1]\n",
    "        log_str = 'Nearest to %s:' % valid_word\n",
    "        for k in xrange(top_k):\n",
    "          close_word = reverse_dictionary[nearest[k]]\n",
    "          log_str = '%s %s,' % (log_str, close_word)\n",
    "        print(log_str)\n",
    "  final_embeddings = normalized_embeddings.eval()"
   ]
  },
  {
   "cell_type": "code",
   "execution_count": 17,
   "metadata": {
    "collapsed": true
   },
   "outputs": [],
   "source": [
    "# Step 6: Visualize the embeddings.\n",
    "\n",
    "def plot_with_labels(low_dim_embs, labels, filename='tsne.png'):\n",
    "  assert low_dim_embs.shape[0] >= len(labels), 'More labels than embeddings'\n",
    "  plt.figure(figsize=(20, 20))  # in inches\n",
    "  for i, label in enumerate(labels):\n",
    "    x, y = low_dim_embs[i, :]\n",
    "    plt.scatter(x, y)\n",
    "    plt.annotate(label,\n",
    "                 xy=(x, y),\n",
    "                 xytext=(5, 2),\n",
    "                 textcoords='offset points',\n",
    "                 ha='right',\n",
    "                 va='bottom')\n",
    "\n",
    "  plt.savefig(filename)\n",
    "\n",
    "try:\n",
    "  # pylint: disable=g-import-not-at-top\n",
    "  from sklearn.manifold import TSNE\n",
    "  import matplotlib.pyplot as plt\n",
    "\n",
    "  tsne = TSNE(perplexity=30, n_components=2, init='pca', n_iter=5000, method='exact')\n",
    "  #plot_only = 500\n",
    "  plot_only = 100\n",
    "  low_dim_embs = tsne.fit_transform(final_embeddings[:plot_only, :])\n",
    "  labels = [reverse_dictionary[i] for i in xrange(plot_only)]\n",
    "  plot_with_labels(low_dim_embs, labels)\n",
    "\n",
    "except ImportError:\n",
    "  print('Please install sklearn, matplotlib, and scipy to show embeddings.')"
   ]
  },
  {
   "cell_type": "code",
   "execution_count": null,
   "metadata": {
    "collapsed": true
   },
   "outputs": [],
   "source": []
  },
  {
   "cell_type": "code",
   "execution_count": null,
   "metadata": {
    "collapsed": true
   },
   "outputs": [],
   "source": []
  },
  {
   "cell_type": "code",
   "execution_count": null,
   "metadata": {
    "collapsed": true
   },
   "outputs": [],
   "source": []
  },
  {
   "cell_type": "code",
   "execution_count": null,
   "metadata": {
    "collapsed": true
   },
   "outputs": [],
   "source": []
  },
  {
   "cell_type": "code",
   "execution_count": null,
   "metadata": {
    "collapsed": true
   },
   "outputs": [],
   "source": []
  },
  {
   "cell_type": "code",
   "execution_count": null,
   "metadata": {
    "collapsed": true
   },
   "outputs": [],
   "source": []
  },
  {
   "cell_type": "code",
   "execution_count": null,
   "metadata": {
    "collapsed": true
   },
   "outputs": [],
   "source": []
  },
  {
   "cell_type": "code",
   "execution_count": null,
   "metadata": {
    "collapsed": true
   },
   "outputs": [],
   "source": []
  },
  {
   "cell_type": "code",
   "execution_count": null,
   "metadata": {
    "collapsed": true
   },
   "outputs": [],
   "source": []
  },
  {
   "cell_type": "code",
   "execution_count": null,
   "metadata": {
    "collapsed": true
   },
   "outputs": [],
   "source": []
  },
  {
   "cell_type": "code",
   "execution_count": null,
   "metadata": {
    "collapsed": true
   },
   "outputs": [],
   "source": []
  },
  {
   "cell_type": "code",
   "execution_count": null,
   "metadata": {
    "collapsed": true
   },
   "outputs": [],
   "source": []
  },
  {
   "cell_type": "code",
   "execution_count": null,
   "metadata": {
    "collapsed": true
   },
   "outputs": [],
   "source": []
  }
 ],
 "metadata": {
  "kernelspec": {
   "display_name": "Python 2",
   "language": "python",
   "name": "python2"
  },
  "language_info": {
   "codemirror_mode": {
    "name": "ipython",
    "version": 2
   },
   "file_extension": ".py",
   "mimetype": "text/x-python",
   "name": "python",
   "nbconvert_exporter": "python",
   "pygments_lexer": "ipython2",
   "version": "2.7.13"
  }
 },
 "nbformat": 4,
 "nbformat_minor": 2
}
