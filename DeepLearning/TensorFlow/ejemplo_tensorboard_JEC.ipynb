{
 "cells": [
  {
   "cell_type": "markdown",
   "metadata": {},
   "source": [
    "# Test Básico para ver si funciona TensorFlow"
   ]
  },
  {
   "cell_type": "code",
   "execution_count": 1,
   "metadata": {
    "collapsed": true
   },
   "outputs": [],
   "source": [
    "# Importamos librerias\n",
    "import tensorflow as tf"
   ]
  },
  {
   "cell_type": "code",
   "execution_count": 2,
   "metadata": {
    "collapsed": true
   },
   "outputs": [],
   "source": [
    "# Reseteamos todo para ejecutar en jupyter desde el principio\n",
    "tf.reset_default_graph()\n",
    "\n",
    "# Configuracion de hiperparametros\n",
    "batch_size = 100\n",
    "learning_rate = 0.5\n",
    "training_epochs = 100\n",
    "\n",
    "# defino el directorio de salida de los eventos de Summary\n",
    "logs_path = \"tblogs/\"\n"
   ]
  },
  {
   "cell_type": "code",
   "execution_count": 3,
   "metadata": {},
   "outputs": [
    {
     "name": "stdout",
     "output_type": "stream",
     "text": [
      "Extracting /home/jorge/data/MNIST/train-images-idx3-ubyte.gz\n",
      "Extracting /home/jorge/data/MNIST/train-labels-idx1-ubyte.gz\n",
      "Extracting /home/jorge/data/MNIST/t10k-images-idx3-ubyte.gz\n",
      "Extracting /home/jorge/data/MNIST/t10k-labels-idx1-ubyte.gz\n"
     ]
    }
   ],
   "source": [
    "# Cargamos el MNIST \n",
    "from tensorflow.examples.tutorials.mnist import input_data\n",
    "mnist = input_data.read_data_sets('/home/jorge/data/MNIST', one_hot=True)"
   ]
  },
  {
   "cell_type": "code",
   "execution_count": 4,
   "metadata": {},
   "outputs": [
    {
     "data": {
      "text/plain": [
       "tensorflow.contrib.learn.python.learn.datasets.base.Datasets"
      ]
     },
     "execution_count": 4,
     "metadata": {},
     "output_type": "execute_result"
    }
   ],
   "source": [
    "type(mnist)"
   ]
  },
  {
   "cell_type": "code",
   "execution_count": 5,
   "metadata": {},
   "outputs": [
    {
     "data": {
      "text/plain": [
       "55000"
      ]
     },
     "execution_count": 5,
     "metadata": {},
     "output_type": "execute_result"
    }
   ],
   "source": [
    "mnist.train.num_examples"
   ]
  },
  {
   "cell_type": "code",
   "execution_count": 6,
   "metadata": {},
   "outputs": [
    {
     "data": {
      "text/plain": [
       "10000"
      ]
     },
     "execution_count": 6,
     "metadata": {},
     "output_type": "execute_result"
    }
   ],
   "source": [
    "mnist.test.num_examples"
   ]
  },
  {
   "cell_type": "code",
   "execution_count": 7,
   "metadata": {
    "collapsed": true
   },
   "outputs": [],
   "source": [
    "# Definimos las variables y la entrada de las imagenes\n",
    "\n",
    "with tf.name_scope('input'):\n",
    "    # None -> el tamaño del batch puede ser cualquiera, 784 -> aplana la imagen de 28x28\n",
    "    x = tf.placeholder(tf.float32, shape=[None, 784], name=\"x-input\") \n",
    "\n",
    "    # target de 10 clases de salida\n",
    "    y_ = tf.placeholder(tf.float32, shape=[None, 10], name=\"y-input\")\n",
    "\n",
    "\n",
    "# Los parametros del modelo deben variar durante el training entonces usamos \"tf.Variable\"\n",
    "with tf.name_scope(\"weights\"):\n",
    "    W = tf.Variable(tf.zeros([784, 10]))\n",
    "\n",
    "# incluimos el bias\n",
    "with tf.name_scope(\"biases\"):\n",
    "    b = tf.Variable(tf.zeros([10]))\n",
    "\n",
    "# implementamos el modelo\n",
    "with tf.name_scope(\"softmax\"):\n",
    "    # y es nuestra prediccion \n",
    "    y = tf.nn.softmax(tf.matmul(x,W) + b)\n",
    "\n",
    "# Especificamos la funcion de coste\n",
    "with tf.name_scope('cross_entropy'):\n",
    "    cross_entropy = tf.reduce_mean(-tf.reduce_sum(y_ * tf.log(y), reduction_indices=[1]))\n",
    "\n",
    "# Especificamos el optimizador\n",
    "with tf.name_scope('train'):\n",
    "    # optimizer is an \"operation\" which we can execute in a session\n",
    "    train_op = tf.train.GradientDescentOptimizer(learning_rate).minimize(cross_entropy)\n",
    "\n",
    "with tf.name_scope('Accuracy'):\n",
    "    # Accuracy\n",
    "    correct_prediction = tf.equal(tf.argmax(y,1), tf.argmax(y_,1))\n",
    "    accuracy = tf.reduce_mean(tf.cast(correct_prediction, tf.float32))\n",
    "    \n",
    "# Creamos un summary para la funcion de coste y la accuracy\n",
    "tf.summary.scalar(\"cost\", cross_entropy)\n",
    "tf.summary.scalar(\"accuracy\", accuracy)\n",
    "\n",
    "# Consolida todos los summarys en una unica \"operacion\" que puede ejecutarse en la sesion.\n",
    "#summary_op = tf.merge_all_summaries()\n",
    "\n",
    "summary_op = tf.summary.merge_all()\n",
    "\n"
   ]
  },
  {
   "cell_type": "code",
   "execution_count": 8,
   "metadata": {},
   "outputs": [
    {
     "name": "stdout",
     "output_type": "stream",
     "text": [
      "WARNING:tensorflow:From /home/jorge/anaconda2/lib/python2.7/site-packages/tensorflow/python/util/tf_should_use.py:170: initialize_all_variables (from tensorflow.python.ops.variables) is deprecated and will be removed after 2017-03-02.\n",
      "Instructions for updating:\n",
      "Use `tf.global_variables_initializer` instead.\n",
      "Epoch:  0\n",
      "Epoch:  10\n",
      "Epoch:  20\n",
      "Epoch:  30\n",
      "Epoch:  40\n",
      "Epoch:  50\n",
      "Epoch:  60\n",
      "Epoch:  70\n",
      "Epoch:  80\n",
      "Epoch:  90\n",
      "Accuracy:  0.9246\n",
      "done\n"
     ]
    }
   ],
   "source": [
    "with tf.Session() as sess:\n",
    "    # Inicializamos las variables de TF como siempre\n",
    "    sess.run(tf.initialize_all_variables())\n",
    "\n",
    "    # creamos el objeto \"writer\" \n",
    "    writer = tf.summary.FileWriter(logs_path, graph=tf.get_default_graph())\n",
    "        \n",
    "    # Entrenamos\n",
    "    #----------------------------------------------------------------------------------------\n",
    "    for epoch in range(training_epochs):\n",
    "        \n",
    "        # calculamos el numero de batches en cada epoch\n",
    "        batch_count = int(mnist.train.num_examples/batch_size)\n",
    "        \n",
    "        for i in range(batch_count):\n",
    "            batch_x, batch_y = mnist.train.next_batch(batch_size)\n",
    "            \n",
    "            # ejecutar las operaciones definidas en el batch\n",
    "            _, summary = sess.run([train_op, summary_op], feed_dict={x: batch_x, y_: batch_y})\n",
    "            \n",
    "            # escribimos el log\n",
    "            writer.add_summary(summary, epoch * batch_count + i)\n",
    "            \n",
    "        if epoch % 10 == 0: \n",
    "            print \"Epoch: \", epoch \n",
    "            \n",
    "\n",
    "    print \"Accuracy: \", accuracy.eval(feed_dict={x: mnist.test.images, y_: mnist.test.labels})\n",
    "    print \"Terminado...\""
   ]
  },
  {
   "cell_type": "code",
   "execution_count": null,
   "metadata": {
    "collapsed": true
   },
   "outputs": [],
   "source": []
  }
 ],
 "metadata": {
  "kernelspec": {
   "display_name": "Python 2",
   "language": "python",
   "name": "python2"
  },
  "language_info": {
   "codemirror_mode": {
    "name": "ipython",
    "version": 2
   },
   "file_extension": ".py",
   "mimetype": "text/x-python",
   "name": "python",
   "nbconvert_exporter": "python",
   "pygments_lexer": "ipython2",
   "version": "2.7.13"
  }
 },
 "nbformat": 4,
 "nbformat_minor": 2
}
