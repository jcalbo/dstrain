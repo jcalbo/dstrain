{
 "cells": [
  {
   "cell_type": "markdown",
   "metadata": {},
   "source": [
    "# Regresión Lineal (ejemplo)\n",
    "\n",
    "Basado en: https://github.com/aymericdamien/TensorFlow-Examples/"
   ]
  },
  {
   "cell_type": "code",
   "execution_count": 1,
   "metadata": {
    "collapsed": true
   },
   "outputs": [],
   "source": [
    "# Importamos lo basico\n",
    "import tensorflow as tf\n",
    "import numpy\n",
    "import matplotlib.pyplot as plt\n",
    "rng = numpy.random"
   ]
  },
  {
   "cell_type": "code",
   "execution_count": 2,
   "metadata": {
    "collapsed": true
   },
   "outputs": [],
   "source": [
    "# Hiper-parametros\n",
    "learning_rate = 0.01\n",
    "training_epochs = 2000\n",
    "display_step = 200"
   ]
  },
  {
   "cell_type": "code",
   "execution_count": 3,
   "metadata": {
    "collapsed": true
   },
   "outputs": [],
   "source": [
    "# Algunos datos de training\n",
    "train_X = numpy.asarray([3.3,4.4,5.5,6.71,6.93,4.168,9.779,6.182,7.59,2.167,\n",
    "                         7.042,10.791,5.313,7.997,5.654,9.27,3.1])\n",
    "train_Y = numpy.asarray([1.7,2.76,2.09,3.19,1.694,1.573,3.366,2.596,2.53,1.221,\n",
    "                         2.827,3.465,1.65,2.904,2.42,2.94,1.3])\n",
    "n_samples = train_X.shape[0]"
   ]
  },
  {
   "cell_type": "code",
   "execution_count": 4,
   "metadata": {
    "collapsed": true
   },
   "outputs": [],
   "source": [
    "# Creamos las entradas al grafo de Tensorflow usando 'placeholders'\n",
    "X = tf.placeholder(\"float\")\n",
    "Y = tf.placeholder(\"float\")\n",
    "\n",
    "# Creamos unas variables para los pesos\n",
    "W = tf.Variable(rng.randn(), name=\"weight\")\n",
    "b = tf.Variable(rng.randn(), name=\"bias\")"
   ]
  },
  {
   "cell_type": "code",
   "execution_count": 5,
   "metadata": {
    "collapsed": true
   },
   "outputs": [],
   "source": [
    "# Construimos un modelo lineal\n",
    "# Esto representa el \"y\" estimado de la siguiente manera:\n",
    "#           y_hat = X * W + b\n",
    "\n",
    "prediccion = tf.add(tf.multiply(X, W), b)"
   ]
  },
  {
   "cell_type": "code",
   "execution_count": 6,
   "metadata": {},
   "outputs": [],
   "source": [
    "# Definimos la función de coste en base al Error Cuadrático Medio\n",
    "coste = tf.reduce_sum(tf.pow(prediccion-Y, 2))/(2*n_samples)"
   ]
  },
  {
   "cell_type": "code",
   "execution_count": 7,
   "metadata": {
    "collapsed": true
   },
   "outputs": [],
   "source": [
    "# Utilizamos Gradient Descend como optimizador del coste\n",
    "optimizador = tf.train.GradientDescentOptimizer(learning_rate).minimize(coste)"
   ]
  },
  {
   "cell_type": "code",
   "execution_count": 8,
   "metadata": {
    "collapsed": true
   },
   "outputs": [],
   "source": [
    "# Inicializamos las variables...\n",
    "init = tf.global_variables_initializer()"
   ]
  },
  {
   "cell_type": "code",
   "execution_count": 9,
   "metadata": {},
   "outputs": [
    {
     "name": "stdout",
     "output_type": "stream",
     "text": [
      "Epoch: 0200 coste= 0.099318095 W= 0.333273 b= 0.199481\n",
      "Epoch: 0400 coste= 0.090640530 W= 0.315073 b= 0.330416\n",
      "Epoch: 0600 coste= 0.085331894 W= 0.300831 b= 0.432871\n",
      "Epoch: 0800 coste= 0.082085028 W= 0.289686 b= 0.513042\n",
      "Epoch: 1000 coste= 0.080099747 W= 0.280966 b= 0.575777\n",
      "Epoch: 1200 coste= 0.078886397 W= 0.274142 b= 0.624867\n",
      "Epoch: 1400 coste= 0.078145273 W= 0.268803 b= 0.663275\n",
      "Epoch: 1600 coste= 0.077692807 W= 0.264625 b= 0.693332\n",
      "Epoch: 1800 coste= 0.077416800 W= 0.261355 b= 0.716852\n",
      "Epoch: 2000 coste= 0.077248633 W= 0.258797 b= 0.735258\n",
      "Optimización completada!\n",
      "Coste en Training = 0.0772486 W= 0.258797 b= 0.735258 \n",
      "\n"
     ]
    },
    {
     "data": {
      "image/png": "[encoded data removed]",
      "text/plain": [
       "<matplotlib.figure.Figure at 0x7fb9f08606d0>"
      ]
     },
     "metadata": {},
     "output_type": "display_data"
    }
   ],
   "source": [
    "# Entrenamos el modelo segun el numero de epochs definidas\n",
    "with tf.Session() as sess:\n",
    "    sess.run(init)\n",
    "\n",
    "    # Ejecutamos el optimizador con todos los datos de X e Y\n",
    "    for epoch in range(training_epochs):\n",
    "        for (x, y) in zip(train_X, train_Y):\n",
    "            sess.run(optimizador, feed_dict={X: x, Y: y})\n",
    "\n",
    "        # Mostramos el avance por epoch...\n",
    "        if (epoch+1) % display_step == 0:\n",
    "            c = sess.run(coste, \n",
    "                         feed_dict={X: train_X, Y:train_Y})\n",
    "            \n",
    "            print \"Epoch:\", '%04d' % (epoch+1), \"coste=\", \"{:.9f}\".format(c), \\\n",
    "                \"W=\", sess.run(W), \"b=\", sess.run(b)\n",
    "\n",
    "    print \"Optimización completada!\"\n",
    "    training_cost = sess.run(coste, feed_dict={X: train_X, Y: train_Y})\n",
    "    print \"Coste en Training =\", training_cost, \"W=\", sess.run(W), \"b=\", sess.run(b), '\\n'\n",
    "\n",
    "    #Ploteamos\n",
    "    plt.plot(train_X, train_Y, 'ro', label='Datos Originales')\n",
    "    plt.plot(train_X, sess.run(W) * train_X + sess.run(b), label='Linea generada por el modelo')\n",
    "    plt.legend()\n",
    "    plt.show()"
   ]
  },
  {
   "cell_type": "code",
   "execution_count": null,
   "metadata": {},
   "outputs": [],
   "source": []
  }
 ],
 "metadata": {
  "anaconda-cloud": {},
  "kernelspec": {
   "display_name": "Python 2",
   "language": "python",
   "name": "python2"
  },
  "language_info": {
   "codemirror_mode": {
    "name": "ipython",
    "version": 2
   },
   "file_extension": ".py",
   "mimetype": "text/x-python",
   "name": "python",
   "nbconvert_exporter": "python",
   "pygments_lexer": "ipython2",
   "version": "2.7.13"
  }
 },
 "nbformat": 4,
 "nbformat_minor": 1
}
