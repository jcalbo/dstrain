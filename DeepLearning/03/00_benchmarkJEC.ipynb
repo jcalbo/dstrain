{
 "cells": [
  {
   "cell_type": "markdown",
   "metadata": {},
   "source": [
    "# 00_benchmark con Tensorflow - Números de casas en color\n",
    "\n",
    "El objetivo de este ejemplo es\n",
    "- leer el dataset\n",
    "- construir una NN basica de 2 capas ocultas \n",
    "- ejecutar el proceso de clasificación multi-class\n",
    "- obtener el error al final\n",
    "- graficar su evolución"
   ]
  },
  {
   "cell_type": "code",
   "execution_count": 1,
   "metadata": {
    "collapsed": true
   },
   "outputs": [],
   "source": [
    "from __future__ import print_function, division\n",
    "from builtins import range\n",
    "\n",
    "import os\n",
    "import numpy as np\n",
    "import tensorflow as tf\n",
    "import matplotlib.pyplot as plt\n",
    "\n",
    "from scipy.io import loadmat\n",
    "from sklearn.utils import shuffle\n",
    "from datetime import datetime"
   ]
  },
  {
   "cell_type": "code",
   "execution_count": 2,
   "metadata": {
    "collapsed": true
   },
   "outputs": [],
   "source": [
    "def y2indicator(y):\n",
    "    N = len(y)\n",
    "    ind = np.zeros((N, 10))\n",
    "    for i in range(N):\n",
    "        ind[i, y[i]] = 1\n",
    "    return ind"
   ]
  },
  {
   "cell_type": "code",
   "execution_count": 3,
   "metadata": {
    "collapsed": true
   },
   "outputs": [],
   "source": [
    "def error_rate(p, t):\n",
    "    return np.mean(p != t)"
   ]
  },
  {
   "cell_type": "code",
   "execution_count": 4,
   "metadata": {
    "collapsed": true
   },
   "outputs": [],
   "source": [
    "# Función para 'aplanar' la entrada matricial de los MNIST\n",
    "def flatten(X):\n",
    "    # input will be (32, 32, 3, N)\n",
    "    # output will be (N, 3072)\n",
    "    N = X.shape[-1]\n",
    "    flat = np.zeros((N, 3072))\n",
    "    for i in range(N):\n",
    "        flat[i] = X[:,:,:,i].reshape(3072)\n",
    "    return flat"
   ]
  },
  {
   "cell_type": "code",
   "execution_count": 5,
   "metadata": {
    "collapsed": true
   },
   "outputs": [],
   "source": [
    "# Leemos los datos...\n",
    "def get_data():\n",
    "    train = loadmat('/home/jorge/data/house_numbers/train_32x32.mat')\n",
    "    test  = loadmat('/home/jorge/data/house_numbers/test_32x32.mat')\n",
    "    return train, test"
   ]
  },
  {
   "cell_type": "markdown",
   "metadata": {},
   "source": [
    "## Proceso"
   ]
  },
  {
   "cell_type": "code",
   "execution_count": 6,
   "metadata": {
    "collapsed": true
   },
   "outputs": [],
   "source": [
    "# leemos los datos\n",
    "train, test = get_data()"
   ]
  },
  {
   "cell_type": "code",
   "execution_count": 7,
   "metadata": {
    "collapsed": true
   },
   "outputs": [],
   "source": [
    "# Es necesario escalar los datos! No pueden quedar como 0..255\n",
    "# Y es una matriz de N x 1 con valores 1..10 (MATLAB indexa desde 1)\n",
    "\n",
    "# aplanamos las etiquetas y los pasamos a 0..9\n",
    "# Tambien necesitamos una matriz de indicadores para el calculo del coste...\n",
    "Xtrain = flatten(train['X'].astype(np.float32) / 255)\n",
    "Ytrain = train['y'].flatten() - 1\n",
    "Xtrain, Ytrain = shuffle(Xtrain, Ytrain)\n",
    "Ytrain_ind = y2indicator(Ytrain)\n",
    "\n",
    "Xtest  = flatten(test['X'].astype(np.float32) / 255)\n",
    "Ytest  = test['y'].flatten() - 1\n",
    "Ytest_ind  = y2indicator(Ytest)\n"
   ]
  },
  {
   "cell_type": "code",
   "execution_count": 15,
   "metadata": {
    "collapsed": true
   },
   "outputs": [],
   "source": [
    "# Parametros del Descenso de Gradiente\n",
    "max_iter = 20\n",
    "print_period = 500\n",
    "N, D = Xtrain.shape\n",
    "batch_sz = 500\n",
    "n_batches = N / batch_sz"
   ]
  },
  {
   "cell_type": "code",
   "execution_count": 16,
   "metadata": {
    "collapsed": true
   },
   "outputs": [],
   "source": [
    "# Pesos iniciales\n",
    "M1 = 1000 # hidden layer size\n",
    "M2 = 500\n",
    "K = 10\n",
    "W1_init = np.random.randn(D, M1) / np.sqrt(D + M1)\n",
    "b1_init = np.zeros(M1)\n",
    "W2_init = np.random.randn(M1, M2) / np.sqrt(M1 + M2)\n",
    "b2_init = np.zeros(M2)\n",
    "W3_init = np.random.randn(M2, K) / np.sqrt(M2 + K)\n",
    "b3_init = np.zeros(K)\n"
   ]
  },
  {
   "cell_type": "code",
   "execution_count": 17,
   "metadata": {
    "collapsed": true
   },
   "outputs": [],
   "source": [
    "# Definimos variables y expresiones para Tensorflow\n",
    "X = tf.placeholder(tf.float32, shape=(None, D), name='X')\n",
    "T = tf.placeholder(tf.float32, shape=(None, K), name='T')\n",
    "\n",
    "W1 = tf.Variable(W1_init.astype(np.float32))\n",
    "b1 = tf.Variable(b1_init.astype(np.float32))\n",
    "W2 = tf.Variable(W2_init.astype(np.float32))\n",
    "b2 = tf.Variable(b2_init.astype(np.float32))\n",
    "W3 = tf.Variable(W3_init.astype(np.float32))\n",
    "b3 = tf.Variable(b3_init.astype(np.float32))\n",
    "\n",
    "Z1 = tf.nn.relu( tf.matmul(X, W1) + b1 )\n",
    "Z2 = tf.nn.relu( tf.matmul(Z1, W2) + b2 )\n",
    "Yish = tf.matmul(Z2, W3) + b3"
   ]
  },
  {
   "cell_type": "code",
   "execution_count": 18,
   "metadata": {
    "collapsed": true
   },
   "outputs": [],
   "source": [
    "# Definición de la función de coste y el metodo de training\n",
    "#-----------------------------------------------------------\n",
    "# Como es una clasificación multiclass usaremos cross_entropy\n",
    "\n",
    "# tf.reduce_sum\n",
    "#           https://www.tensorflow.org/api_docs/python/tf/reduce_sum\n",
    "#           Computes the sum of elements across dimensions of a tensor.\n",
    "\n",
    "# softmax_cross_entropy_with_logits\n",
    "#           https://www.tensorflow.org/api_docs/python/tf/nn/softmax_cross_entropy_with_logits\n",
    "\n",
    "#           Computes softmax cross entropy between logits and labels.\n",
    "#           Measures the probability error in discrete classification tasks in which the classes \n",
    "#           are mutually exclusive (each entry is in exactly one class).\n",
    "\n",
    "cost = tf.reduce_sum(tf.nn.softmax_cross_entropy_with_logits(logits=Yish, labels=T))\n",
    "\n",
    "\n",
    "train_op = tf.train.RMSPropOptimizer(0.0001, decay=0.99, momentum=0.9).minimize(cost)\n",
    "\n",
    "# Usaremos esto para calcular el error rate\n",
    "predict_op = tf.argmax(Yish, 1)\n",
    "\n",
    "LL = []\n",
    "\n",
    "# Inicializamos las variables\n",
    "init = tf.global_variables_initializer()\n"
   ]
  },
  {
   "cell_type": "code",
   "execution_count": 19,
   "metadata": {},
   "outputs": [
    {
     "name": "stdout",
     "output_type": "stream",
     "text": [
      "Coste / error en la iteracion i=0, j=0: 58444.184 / 0.804\n",
      "Coste / error en la iteracion i=1, j=0: 44356.594 / 0.580\n",
      "Coste / error en la iteracion i=2, j=0: 35142.422 / 0.423\n",
      "Coste / error en la iteracion i=3, j=0: 30564.457 / 0.356\n",
      "Coste / error en la iteracion i=4, j=0: 28648.350 / 0.330\n",
      "Coste / error en la iteracion i=5, j=0: 26665.977 / 0.308\n",
      "Coste / error en la iteracion i=6, j=0: 25359.285 / 0.291\n",
      "Coste / error en la iteracion i=7, j=0: 24467.525 / 0.280\n",
      "Coste / error en la iteracion i=8, j=0: 23406.654 / 0.265\n",
      "Coste / error en la iteracion i=9, j=0: 22511.945 / 0.253\n",
      "Coste / error en la iteracion i=10, j=0: 21931.184 / 0.245\n",
      "Coste / error en la iteracion i=11, j=0: 22081.043 / 0.248\n",
      "Coste / error en la iteracion i=12, j=0: 21764.707 / 0.243\n",
      "Coste / error en la iteracion i=13, j=0: 21638.279 / 0.237\n",
      "Coste / error en la iteracion i=14, j=0: 21089.480 / 0.234\n",
      "Coste / error en la iteracion i=15, j=0: 20044.309 / 0.220\n",
      "Coste / error en la iteracion i=16, j=0: 19988.410 / 0.218\n",
      "Coste / error en la iteracion i=17, j=0: 20016.664 / 0.217\n",
      "Coste / error en la iteracion i=18, j=0: 19495.682 / 0.209\n",
      "Coste / error en la iteracion i=19, j=0: 19196.566 / 0.205\n",
      "Tiempo transcurrido: 0:07:37.964246\n"
     ]
    }
   ],
   "source": [
    "t0 = datetime.now()\n",
    "with tf.Session() as session:\n",
    "    session.run(init)\n",
    "\n",
    "    for i in range(max_iter):\n",
    "        for j in range(n_batches):\n",
    "            Xbatch = Xtrain[j*batch_sz:(j*batch_sz + batch_sz),]\n",
    "            Ybatch = Ytrain_ind[j*batch_sz:(j*batch_sz + batch_sz),]\n",
    "\n",
    "            session.run(train_op, feed_dict={X: Xbatch, T: Ybatch})\n",
    "            if j % print_period == 0:\n",
    "                test_cost = session.run(cost, feed_dict={X: Xtest, T: Ytest_ind})\n",
    "                prediction = session.run(predict_op, feed_dict={X: Xtest})\n",
    "                err = error_rate(prediction, Ytest)\n",
    "                print(\"Coste / error en la iteracion i=%d, j=%d: %.3f / %.3f\" % (i, j, test_cost, err))\n",
    "                LL.append(test_cost)\n",
    "print(\"Tiempo transcurrido:\", (datetime.now() - t0))\n"
   ]
  },
  {
   "cell_type": "code",
   "execution_count": 20,
   "metadata": {},
   "outputs": [
    {
     "data": {
      "image/png": "[encoded data removed]",
      "text/plain": [
       "<matplotlib.figure.Figure at 0x7fa62af57210>"
      ]
     },
     "metadata": {},
     "output_type": "display_data"
    }
   ],
   "source": [
    "plt.plot(LL)\n",
    "plt.show()"
   ]
  }
 ],
 "metadata": {
  "kernelspec": {
   "display_name": "Python 2",
   "language": "python",
   "name": "python2"
  },
  "language_info": {
   "codemirror_mode": {
    "name": "ipython",
    "version": 2
   },
   "file_extension": ".py",
   "mimetype": "text/x-python",
   "name": "python",
   "nbconvert_exporter": "python",
   "pygments_lexer": "ipython2",
   "version": "2.7.13"
  }
 },
 "nbformat": 4,
 "nbformat_minor": 2
}
