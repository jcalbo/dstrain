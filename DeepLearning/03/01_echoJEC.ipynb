{
 "cells": [
  {
   "cell_type": "markdown",
   "metadata": {
    "collapsed": true
   },
   "source": [
    "# 01_echoJEC\n",
    "\n",
    "El objetivo es agregar un eco a un fichero de audio. \n",
    "\n",
    "- 1. Leemos el WAV\n",
    "- 2. Vectorizamos\n",
    "- 3. Ploteamos la señal original vectorizada\n",
    "- 4. Convolucion con Delta\n",
    "- 5. Filtro de Eco\n",
    "- 6. Convolucion con Eco\n",
    "- 7. Ploteamos la señal con Eco\n"
   ]
  },
  {
   "cell_type": "code",
   "execution_count": 1,
   "metadata": {
    "collapsed": true
   },
   "outputs": [],
   "source": [
    "from __future__ import print_function, division\n",
    "from builtins import range\n",
    "\n",
    "import matplotlib.pyplot as plt\n",
    "import numpy as np\n",
    "import wave\n",
    "import sys\n",
    "\n",
    "from scipy.io.wavfile import write"
   ]
  },
  {
   "cell_type": "markdown",
   "metadata": {},
   "source": [
    "### 1. Leemos el WAV\n",
    "\n",
    "El fichero WAV a utilizar tiene: \n",
    "\n",
    "- un sampling rate = 16000 Hz\n",
    "- por cada sample tiene = 16bits\n",
    "\n",
    "El primer parametro es la frecuencia de muestreo (discretización en tiempo)\n",
    "El segundo es la cuantización en amplitud (discretización en amplitud)\n",
    "\n",
    "2^16 = 65536 es el número de diferentes niveles de sonido (amplitud)\n",
    "\n",
    "También lo aplicaríamos a imagenes!\n",
    "2^8 * 2^8 * 2^8 = 2^24 es cuantos colores podemos representar"
   ]
  },
  {
   "cell_type": "code",
   "execution_count": 2,
   "metadata": {
    "collapsed": true
   },
   "outputs": [],
   "source": [
    "spf = wave.open('helloworld.wav', 'r')"
   ]
  },
  {
   "cell_type": "markdown",
   "metadata": {},
   "source": [
    "### 2. Vectorizamos"
   ]
  },
  {
   "cell_type": "code",
   "execution_count": 3,
   "metadata": {},
   "outputs": [
    {
     "name": "stdout",
     "output_type": "stream",
     "text": [
      "Señal numpy: (18432,)\n"
     ]
    },
    {
     "name": "stderr",
     "output_type": "stream",
     "text": [
      "/home/jorge/anaconda2/lib/python2.7/site-packages/ipykernel_launcher.py:14: DeprecationWarning: Numeric-style type codes are deprecated and will result in an error in the future.\n",
      "  \n"
     ]
    }
   ],
   "source": [
    "# Para ello primero extraemos el audio en raw del WAV usando readframes()\n",
    "#-------------------------------------------------------------------------\n",
    "# Wave_read.readframes(n): Reads and returns at most n frames of audio, as a string of bytes.\n",
    "# tambien se puede consultar: http://www.cameronmacleod.com/blog/reading-wave-python\n",
    "# leemos toda la señal\n",
    "signal = spf.readframes(-1)\n",
    "\n",
    "\n",
    "# Una vez que la señal nos ha quedado en un string, entonces lo pasamos a un vector numpy\n",
    "#-----------------------------------------------------------------------------------------\n",
    "# numpy.fromstring(string, dtype=float, count=-1, sep='')\n",
    "# A new 1-D array initialized from raw binary or text data in a string.\n",
    "\n",
    "signal = np.fromstring(signal, 'Int16')\n",
    "\n",
    "# Imprimimos la dimension\n",
    "print(\"Señal numpy:\", signal.shape)"
   ]
  },
  {
   "cell_type": "markdown",
   "metadata": {},
   "source": [
    "### 3. Ploteamos la señal original vectorizada"
   ]
  },
  {
   "cell_type": "code",
   "execution_count": 4,
   "metadata": {},
   "outputs": [
    {
     "data": {
      "image/png": "[encoded data removed]",
      "text/plain": [
       "<matplotlib.figure.Figure at 0x7fb5c04eb550>"
      ]
     },
     "metadata": {},
     "output_type": "display_data"
    }
   ],
   "source": [
    "# Ploteamos la señal vectorizada\n",
    "plt.plot(signal)\n",
    "plt.title(\"'Hello world' sin eco\")\n",
    "plt.show()"
   ]
  },
  {
   "cell_type": "markdown",
   "metadata": {},
   "source": [
    "### 4. Convolucion con Delta"
   ]
  },
  {
   "cell_type": "code",
   "execution_count": 5,
   "metadata": {},
   "outputs": [
    {
     "name": "stdout",
     "output_type": "stream",
     "text": [
      "Señal convolucionada con Delta: (18436,)\n"
     ]
    }
   ],
   "source": [
    "# Ahora hacemos una convolución con la función DELTA o IMPULSO\n",
    "# esta función debe producir la MISMA señal\n",
    "delta = np.array([1., 0., 0., 0., 0.])\n",
    "noecho = np.convolve(signal, delta)\n",
    "print(\"Señal convolucionada con Delta:\", noecho.shape)\n",
    "\n",
    "# hacemos un assert para ver si son iguales \n",
    "assert(np.abs(noecho[:len(signal)] - signal).sum() < 0.000001)"
   ]
  },
  {
   "cell_type": "code",
   "execution_count": 6,
   "metadata": {
    "collapsed": true
   },
   "outputs": [],
   "source": [
    "# Convertimos y salvamos a disco\n",
    "noecho = noecho.astype(np.int16) # hay que asegurarse de convertirlo a int16, \n",
    "                                 # de lo contrario la amplitud será muy alta\n",
    "    \n",
    "# grabamos la señal convertida en nuevo archivo\n",
    "write('noecho.wav', 16000, noecho)"
   ]
  },
  {
   "cell_type": "markdown",
   "metadata": {},
   "source": [
    "Vemos que la señal es exactamente la misma despues de la convolución."
   ]
  },
  {
   "cell_type": "markdown",
   "metadata": {},
   "source": [
    "### 5. Filtro de Eco"
   ]
  },
  {
   "cell_type": "code",
   "execution_count": 7,
   "metadata": {
    "collapsed": true
   },
   "outputs": [],
   "source": [
    "# Creamos el filtro de eco\n",
    "\n",
    "# creamos un vector de 16000 elementos (lo cual es 1 segundo) con sus componentes en cero\n",
    "filt = np.zeros(16000)\n",
    "\n",
    "# cada cuarto de segundo metemos un escalon decreciente (1 -> 0.6 -> 0.3 -> 0.2 -> 0.1)\n",
    "#filt[0] = 1\n",
    "#filt[4000] = 0.6\n",
    "#filt[8000] = 0.3\n",
    "#filt[12000] = 0.2\n",
    "#filt[15999] = 0.1\n",
    "\n",
    "filt[0] = 1\n",
    "#filt[2000] = 0.9\n",
    "filt[4000] = 0.8\n",
    "#filt[6000] = 0.7\n",
    "filt[8000] = 0.6\n",
    "#filt[10000] = 0.5\n",
    "filt[12000] = 0.4\n",
    "#filt[14000] = 0.3\n",
    "filt[15999] = 0.2\n",
    "\n"
   ]
  },
  {
   "cell_type": "markdown",
   "metadata": {},
   "source": [
    "### 6. Convolucion con Eco"
   ]
  },
  {
   "cell_type": "code",
   "execution_count": 8,
   "metadata": {
    "collapsed": true
   },
   "outputs": [],
   "source": [
    "# hacemos la convolucion\n",
    "out = np.convolve(signal, filt)\n",
    "out = out.astype(np.int16) # lo mismo que antes, convertimos a int16\n",
    "\n",
    "# guardamos la señal resultante de la convolución\n",
    "write('out.wav', 16000, out)"
   ]
  },
  {
   "cell_type": "markdown",
   "metadata": {},
   "source": [
    "### 7. Ploteamos la señal con Eco"
   ]
  },
  {
   "cell_type": "code",
   "execution_count": 9,
   "metadata": {},
   "outputs": [
    {
     "data": {
      "image/png": "[encoded data removed]",
      "text/plain": [
       "<matplotlib.figure.Figure at 0x7fb5be17c7d0>"
      ]
     },
     "metadata": {},
     "output_type": "display_data"
    }
   ],
   "source": [
    "# Ploteamos la señal de salida\n",
    "plt.plot(out)\n",
    "plt.title(\"'Hello world' con un poco de eco\")\n",
    "plt.show()"
   ]
  },
  {
   "cell_type": "code",
   "execution_count": null,
   "metadata": {
    "collapsed": true
   },
   "outputs": [],
   "source": []
  }
 ],
 "metadata": {
  "kernelspec": {
   "display_name": "Python 2",
   "language": "python",
   "name": "python2"
  },
  "language_info": {
   "codemirror_mode": {
    "name": "ipython",
    "version": 2
   },
   "file_extension": ".py",
   "mimetype": "text/x-python",
   "name": "python",
   "nbconvert_exporter": "python",
   "pygments_lexer": "ipython2",
   "version": "2.7.13"
  }
 },
 "nbformat": 4,
 "nbformat_minor": 2
}
