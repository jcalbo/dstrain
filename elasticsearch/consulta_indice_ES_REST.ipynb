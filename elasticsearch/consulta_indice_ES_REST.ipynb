{
 "cells": [
  {
   "cell_type": "markdown",
   "metadata": {},
   "source": [
    "# Simple example of querying Elasticsearch creating REST requests"
   ]
  },
  {
   "cell_type": "code",
   "execution_count": 2,
   "metadata": {},
   "outputs": [],
   "source": [
    "import requests\n",
    "import json"
   ]
  },
  {
   "cell_type": "code",
   "execution_count": 3,
   "metadata": {},
   "outputs": [],
   "source": [
    "# Elasticsearch Query\n",
    "def search(uri, term):\n",
    "    query = json.dumps({\n",
    "        \"query\": {\n",
    "            \"match\": {\n",
    "                \"content\": term\n",
    "            }\n",
    "        }\n",
    "    })\n",
    "    response = requests.get(uri, data=query)\n",
    "    results = json.loads(response.text)\n",
    "    return results"
   ]
  },
  {
   "cell_type": "code",
   "execution_count": 5,
   "metadata": {},
   "outputs": [],
   "source": [
    "# Imprime los resultados de manera limpia\n",
    "def format_results(results):\n",
    "    data = [doc for doc in results['hits']['hits']]\n",
    "    for doc in data:\n",
    "        print(\"%s) %s\" % (doc['_id'], doc['_source']['content']))"
   ]
  },
  {
   "cell_type": "code",
   "execution_count": 6,
   "metadata": {},
   "outputs": [],
   "source": [
    "# Crea un nuevo documento\n",
    "def create_doc(uri, doc_data={}):\n",
    "    query = json.dumps(doc_data)\n",
    "    response = requests.post(uri, data=query)\n",
    "    print(response)"
   ]
  },
  {
   "cell_type": "code",
   "execution_count": null,
   "metadata": {},
   "outputs": [],
   "source": []
  },
  {
   "cell_type": "code",
   "execution_count": 7,
   "metadata": {},
   "outputs": [
    {
     "name": "stdout",
     "output_type": "stream",
     "text": [
      "1) The quick brown fox\n",
      "3) The quick brown fox jumped over the lazy dog\n",
      "2) What does the fox say?\n",
      "4) The quick lazy brown fox did not jump.\n"
     ]
    }
   ],
   "source": [
    "uri_search = 'http://localhost:9200/test/articles/_search'\n",
    "uri_create = 'http://localhost:9200/test/articles/'\n",
    "\n",
    "# buscamos con search() el termino 'fox'\n",
    "results = search(uri_search, \"fox\")\n",
    "format_results(results)\n",
    "  "
   ]
  },
  {
   "cell_type": "code",
   "execution_count": 8,
   "metadata": {},
   "outputs": [
    {
     "name": "stdout",
     "output_type": "stream",
     "text": [
      "<Response [201]>\n"
     ]
    }
   ],
   "source": [
    "create_doc(uri_create, {\"content\": \"Otro documento con el termino fox\"})"
   ]
  },
  {
   "cell_type": "code",
   "execution_count": 10,
   "metadata": {},
   "outputs": [
    {
     "name": "stdout",
     "output_type": "stream",
     "text": [
      "1) The quick brown fox\n",
      "AWD6hGeYXpREprvggHQ0) Otro documento con el termino fox\n",
      "45) Elasticsearch: cool. fox cool.\n",
      "2) What does the fox say?\n",
      "4) The quick lazy brown fox did not jump.\n",
      "3) The quick brown fox jumped over the lazy dog\n"
     ]
    }
   ],
   "source": [
    "results = search(uri_search, \"fox\")\n",
    "format_results(results)"
   ]
  },
  {
   "cell_type": "code",
   "execution_count": null,
   "metadata": {},
   "outputs": [],
   "source": []
  },
  {
   "cell_type": "code",
   "execution_count": null,
   "metadata": {},
   "outputs": [],
   "source": []
  },
  {
   "cell_type": "code",
   "execution_count": null,
   "metadata": {},
   "outputs": [],
   "source": []
  }
 ],
 "metadata": {
  "kernelspec": {
   "display_name": "Python 2",
   "language": "python",
   "name": "python2"
  },
  "language_info": {
   "codemirror_mode": {
    "name": "ipython",
    "version": 2
   },
   "file_extension": ".py",
   "mimetype": "text/x-python",
   "name": "python",
   "nbconvert_exporter": "python",
   "pygments_lexer": "ipython2",
   "version": "2.7.12"
  }
 },
 "nbformat": 4,
 "nbformat_minor": 2
}
