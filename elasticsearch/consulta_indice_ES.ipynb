{
 "cells": [
  {
   "cell_type": "markdown",
   "metadata": {},
   "source": [
    "# Consulta Indice de ElasticSearch"
   ]
  },
  {
   "cell_type": "markdown",
   "metadata": {},
   "source": [
    "## Usamos el método search( ) de la libreria Elasticseach de Python "
   ]
  },
  {
   "cell_type": "code",
   "execution_count": 17,
   "metadata": {},
   "outputs": [],
   "source": [
    "from elasticsearch import Elasticsearch\n",
    "from datetime import datetime"
   ]
  },
  {
   "cell_type": "markdown",
   "metadata": {},
   "source": [
    "### Creamos un indice con documentos usando create_index.sh\n",
    "\n",
    "``` javascript\n",
    "curl -XPOST http://localhost:9200/test/articles/1 -d '{\"content\": \"The quick brown fox\"}'\n",
    "curl -XPOST http://localhost:9200/test/articles/2 -d '{\"content\": \"What does the fox say?\"}'\n",
    "curl -XPOST http://localhost:9200/test/articles/3 -d '{\"content\": \"The quick brown fox jumped over the lazy dog\"}'\n",
    "curl -XPOST http://localhost:9200/test/articles/4 -d '{\"content\": \"The quick lazy brown fox did not jump.\"}```"
   ]
  },
  {
   "cell_type": "code",
   "execution_count": null,
   "metadata": {},
   "outputs": [],
   "source": [
    "# Una vez creado el indice y sus documentos hacemos la consulta"
   ]
  },
  {
   "cell_type": "code",
   "execution_count": 8,
   "metadata": {},
   "outputs": [],
   "source": [
    "# Primero instanciamos un objeto Elasticsearch() \n",
    "es = Elasticsearch()"
   ]
  },
  {
   "cell_type": "code",
   "execution_count": 9,
   "metadata": {},
   "outputs": [],
   "source": [
    "# Luego ejecutamos el metodo 'search()' con los parametros y devolvemos los documentos en 'res'\n",
    "res = es.search(index=\"test\", \n",
    "                doc_type=\"articles\", \n",
    "                body={\"query\": {\"match\": {\"content\": \"fox\"}}}\n",
    "               )"
   ]
  },
  {
   "cell_type": "code",
   "execution_count": 10,
   "metadata": {},
   "outputs": [
    {
     "name": "stdout",
     "output_type": "stream",
     "text": [
      "4 documentos econtrados:\n",
      "1 -  The quick brown fox\n",
      "3 -  The quick brown fox jumped over the lazy dog\n",
      "2 -  What does the fox say?\n",
      "4 -  The quick lazy brown fox did not jump.\n"
     ]
    }
   ],
   "source": [
    "print(\"%d documentos econtrados:\" % res['hits']['total'])\n",
    "for doc in res['hits']['hits']:\n",
    "    print(\"%s -  %s\" % (doc['_id'], doc['_source']['content']))"
   ]
  },
  {
   "cell_type": "code",
   "execution_count": 18,
   "metadata": {},
   "outputs": [],
   "source": [
    "# Introducimos otro documento con una estructura diferente\n",
    "doc = {\n",
    "    'author': 'jorge',\n",
    "    'content': 'Elasticsearch es interesante y agrego fox tambien',\n",
    "    'timestamp': datetime.now(),\n",
    "}\n",
    "res = es.index(index=\"test\", doc_type='articles', id=45, body=doc)\n"
   ]
  },
  {
   "cell_type": "code",
   "execution_count": 20,
   "metadata": {},
   "outputs": [],
   "source": [
    "doc2 = {\n",
    "    'author': 'jorge',\n",
    "    'content': 'Otro documento aleatorio',\n",
    "    'timestamp': datetime.now(),\n",
    "}\n",
    "res = es.index(index=\"test\", doc_type='articles', id=46, body=doc2)"
   ]
  },
  {
   "cell_type": "code",
   "execution_count": 21,
   "metadata": {},
   "outputs": [
    {
     "name": "stdout",
     "output_type": "stream",
     "text": [
      "6 documentos econtrados:\n",
      "1 -  The quick brown fox\n",
      "AWD6hGeYXpREprvggHQ0 -  Otro documento con el termino fox\n",
      "45 -  Elasticsearch: cool. fox cool.\n",
      "2 -  What does the fox say?\n",
      "4 -  The quick lazy brown fox did not jump.\n",
      "3 -  The quick brown fox jumped over the lazy dog\n"
     ]
    }
   ],
   "source": [
    "res = es.search(index=\"test\", \n",
    "                doc_type=\"articles\", \n",
    "                body={\"query\": {\"match\": {\"content\": \"fox\"}}}\n",
    "               )\n",
    "print(\"%d documentos econtrados:\" % res['hits']['total'])\n",
    "for doc in res['hits']['hits']:\n",
    "    print(\"%s -  %s\" % (doc['_id'], doc['_source']['content']))"
   ]
  },
  {
   "cell_type": "markdown",
   "metadata": {},
   "source": [
    "Vemos que los agrega correctamente aunque hay que proveer el id. La inserción con id=46 no aparece en la busqueda."
   ]
  }
 ],
 "metadata": {
  "kernelspec": {
   "display_name": "Python 2",
   "language": "python",
   "name": "python2"
  },
  "language_info": {
   "codemirror_mode": {
    "name": "ipython",
    "version": 2
   },
   "file_extension": ".py",
   "mimetype": "text/x-python",
   "name": "python",
   "nbconvert_exporter": "python",
   "pygments_lexer": "ipython2",
   "version": "2.7.12"
  }
 },
 "nbformat": 4,
 "nbformat_minor": 2
}
