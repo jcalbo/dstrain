{
 "cells": [
  {
   "cell_type": "markdown",
   "metadata": {},
   "source": [
    "# Reconocimiento Facial Basico (Regresion Logística)\n",
    "\n",
    "Ejemplo de como se puede aplicar Regresión logística para clasificar expresiones faciales.\n",
    "\n",
    "Para este caso, solo vamos a utilizar 2 clases para poder utilizar una clasificación binaria con una sigmoide.\n",
    "\n",
    "En otros notebooks se implementará softmax para el caso *multiclase*."
   ]
  },
  {
   "cell_type": "code",
   "execution_count": 18,
   "metadata": {
    "collapsed": true
   },
   "outputs": [],
   "source": [
    "from __future__ import print_function, division\n",
    "from builtins import range\n",
    "\n",
    "import numpy as np\n",
    "import matplotlib.pyplot as plt\n",
    "from sklearn.utils import shuffle"
   ]
  },
  {
   "cell_type": "code",
   "execution_count": 19,
   "metadata": {
    "collapsed": true
   },
   "outputs": [],
   "source": [
    "# Solo vamos a leer 2 clases - sino usariamos getData( ).\n",
    "# Los datos estan en un fichero csv con la siguiente estructura:\n",
    "# - emotion - numero de 0 a 6 (0-Angry, 1-Disgust, 2-Fear, 3-Happy, 4-Sad, 5-Surprise, 6-Neutral)\n",
    "# - pixels - imagen de 48 x 48 pixels (no tiene color, solo 255 tonos de grises)\n",
    "# - Usage - training o test\n",
    "\n",
    "# Devuelve un array X( ) de todos los pixels de cada imagen \n",
    "# y un vector Y( ) con las etiquetas\n",
    "\n",
    "def getBinaryData():\n",
    "    Y = []\n",
    "    X = []\n",
    "    first = True # para saltarnos la primera linea\n",
    "    for line in open('/home/jorge/data/facial_expressions/fer2013/fer2013.csv'):\n",
    "        if first:\n",
    "            first = False\n",
    "        else:\n",
    "            row = line.split(',')   # separamos los datos usando la \",\"\n",
    "            y = int(row[0])         # guardo el tipo de expresion en el target\n",
    "\n",
    "            if y == 0 or y == 1:    # solo nos quedamos con estos tipos de expresion\n",
    "                Y.append(y)\n",
    "                X.append([int(p) for p in row[1].split()])\n",
    "                \n",
    "    return np.array(X) / 255.0, np.array(Y)        # Aqui normalizamos los datos X dividiendo por 255\n",
    "                                                   # entonces nos quedan entre 0 y 1"
   ]
  },
  {
   "cell_type": "code",
   "execution_count": 20,
   "metadata": {
    "collapsed": true
   },
   "outputs": [],
   "source": [
    "def sigmoid(A):\n",
    "    return 1 / (1 + np.exp(-A))"
   ]
  },
  {
   "cell_type": "code",
   "execution_count": 21,
   "metadata": {
    "collapsed": true
   },
   "outputs": [],
   "source": [
    "# Usamos cross-entropy como funcion de coste\n",
    "def sigmoid_cost(T, Y):\n",
    "    return -(T*np.log(Y) + (1-T)*np.log(1-Y)).sum()"
   ]
  },
  {
   "cell_type": "code",
   "execution_count": 22,
   "metadata": {
    "collapsed": true
   },
   "outputs": [],
   "source": [
    "# La tasa de error será la media de la diferencia entre targets y predicciones\n",
    "def error_rate(targets, predictions):\n",
    "    return np.mean(targets != predictions)          # nos quedamos con la media de los que son diferentes"
   ]
  },
  {
   "cell_type": "code",
   "execution_count": 23,
   "metadata": {
    "collapsed": true
   },
   "outputs": [],
   "source": [
    "class LogisticModel(object):\n",
    "    def __init__(self):            # en este caso el constructor no tiene accion\n",
    "        pass\n",
    "\n",
    "    def fit(self, X, Y, learning_rate=10e-7, reg=0*10e-22, epochs=120000, show_fig=False):\n",
    "        X, Y = shuffle(X, Y)\n",
    "        Xvalid, Yvalid = X[-1000:], Y[-1000:]\n",
    "        X, Y = X[:-1000], Y[:-1000]\n",
    "\n",
    "        N, D = X.shape\n",
    "        self.W = np.random.randn(D) / np.sqrt(D)\n",
    "        self.b = 0\n",
    "\n",
    "        costs = []\n",
    "        best_validation_error = 1\n",
    "        for i in range(epochs):\n",
    "                # forward propagation and cost calculation\n",
    "                pY = self.forward(X)\n",
    "\n",
    "                # Calculamos el descenso de gradiente para los pesos y el bias \n",
    "                self.W -= learning_rate*(X.T.dot(pY - Y) + reg*self.W)\n",
    "                self.b -= learning_rate*((pY - Y).sum() + reg*self.b)\n",
    "\n",
    "                # cada 12.000 epochs vemos la funcion de coste y el error\n",
    "                if i % 12000 == 0:\n",
    "                    pYvalid = self.forward(Xvalid)\n",
    "                    c = sigmoid_cost(Yvalid, pYvalid)\n",
    "                    costs.append(c)\n",
    "                    e = error_rate(Yvalid, np.round(pYvalid))\n",
    "                    print(\"i:\", i, \"cost:\", c, \"error:\", e)\n",
    "                    if e < best_validation_error:\n",
    "                        best_validation_error = e\n",
    "        print(\"Mejor Error de validacion:\", best_validation_error)\n",
    "\n",
    "        if show_fig:\n",
    "            plt.plot(costs)\n",
    "            plt.show()\n",
    "\n",
    "    def JEC_fit(self, X, Y, learning_rate=10e-7, reg=0*10e-22, epochs=120000):\n",
    "        X, Y = shuffle(X, Y)\n",
    "        Xvalid, Yvalid = X[-1000:], Y[-1000:]\n",
    "        X, Y = X[:-1000], Y[:-1000]\n",
    "\n",
    "        N, D = X.shape\n",
    "        self.W = np.random.randn(D) / np.sqrt(D)\n",
    "        self.b = 0\n",
    "\n",
    "        costs = []\n",
    "        best_validation_error = 1\n",
    "        for i in range(epochs):\n",
    "                # forward propagation and cost calculation\n",
    "                pY = self.forward(X)\n",
    "\n",
    "                # Calculamos el descenso de gradiente para los pesos y el bias \n",
    "                self.W -= learning_rate*(X.T.dot(pY - Y) + reg*self.W)\n",
    "                self.b -= learning_rate*((pY - Y).sum() + reg*self.b)\n",
    "\n",
    "                # cada 10000 epochs vemos la funcion de coste y el error\n",
    "                if i % 1000 == 0:\n",
    "                    pYvalid = self.forward(Xvalid)\n",
    "                    c = sigmoid_cost(Yvalid, pYvalid)\n",
    "                    costs.append(c)\n",
    "                    e = error_rate(Yvalid, np.round(pYvalid))\n",
    "                    print(\"i:\", i, \"cost:\", c, \"error:\", e)\n",
    "                    if e < best_validation_error:\n",
    "                        best_validation_error = e\n",
    "        print(\"Mejor Error de validacion:\", best_validation_error)\n",
    "        return costs\n",
    "\n",
    "    def forward(self, X):\n",
    "        return sigmoid(X.dot(self.W) + self.b)\n",
    "\n",
    "    def predict(self, X):\n",
    "        pY = self.forward(X)\n",
    "        return np.round(pY)\n",
    "\n",
    "\n",
    "    def score(self, X, Y):\n",
    "        prediction = self.predict(X)\n",
    "        return 1 - error_rate(Y, prediction)\n"
   ]
  },
  {
   "cell_type": "code",
   "execution_count": 24,
   "metadata": {},
   "outputs": [],
   "source": [
    "# Solo nos quedamos con 2 clases del dataset de 'Expresiones Faciales', la 0 y la 1 ((0-Angry, 1-Disgust)\n",
    "X, Y = getBinaryData()\n",
    "\n",
    "# Separamos los 2 grupos\n",
    "X0 = X[Y==0, :]\n",
    "X1 = X[Y==1, :]\n"
   ]
  },
  {
   "cell_type": "code",
   "execution_count": 25,
   "metadata": {},
   "outputs": [
    {
     "name": "stdout",
     "output_type": "stream",
     "text": [
      "(4953, 2304)\n",
      "(547, 2304)\n"
     ]
    }
   ],
   "source": [
    "# y vemos las cantidades de cada uno\n",
    "print(X0.shape)\n",
    "print(X1.shape)"
   ]
  },
  {
   "cell_type": "markdown",
   "metadata": {},
   "source": [
    "Vemos que hay un desbalance de clases. Una forma de solucionarlo, y para no quedarnos con menos datos, es repitiendo la clase con menos muestras."
   ]
  },
  {
   "cell_type": "code",
   "execution_count": 26,
   "metadata": {},
   "outputs": [
    {
     "name": "stdout",
     "output_type": "stream",
     "text": [
      "(4953, 2304)\n",
      "(4923, 2304)\n",
      "(9876, 2304)\n"
     ]
    }
   ],
   "source": [
    "X1 = np.repeat(X1, 9, axis=0)\n",
    "X = np.vstack([X0, X1])\n",
    "Y = np.array([0]*len(X0) + [1]*len(X1))\n",
    "\n",
    "# N, D = X.shape\n",
    "# print \"N:\", N\n",
    "# print \"p(Y=0):\", np.sum(Y == 0) / float(N), \"p(Y=1):\", np.sum(Y == 1) / float(N)\n",
    "    \n",
    "print(X0.shape)\n",
    "print(X1.shape)\n",
    "print(X.shape)"
   ]
  },
  {
   "cell_type": "code",
   "execution_count": 27,
   "metadata": {},
   "outputs": [
    {
     "name": "stdout",
     "output_type": "stream",
     "text": [
      "i: 0 cost: 704.68936799 error: 0.501\n",
      "i: 1000 cost: 589.549539395 error: 0.31\n",
      "i: 2000 cost: 565.002873786 error: 0.298\n",
      "i: 3000 cost: 548.528871368 error: 0.28\n",
      "i: 4000 cost: 536.140846348 error: 0.272\n",
      "i: 5000 cost: 526.307084588 error: 0.256\n",
      "i: 6000 cost: 518.223504619 error: 0.247\n",
      "i: 7000 cost: 511.40636945 error: 0.243\n",
      "i: 8000 cost: 505.541423921 error: 0.239\n",
      "i: 9000 cost: 500.413726964 error: 0.233\n",
      "i: 10000 cost: 495.87047278 error: 0.228\n",
      "i: 11000 cost: 491.799630404 error: 0.227\n",
      "i: 12000 cost: 488.116955477 error: 0.222\n",
      "i: 13000 cost: 484.757738243 error: 0.222\n",
      "i: 14000 cost: 481.671367823 error: 0.219\n",
      "i: 15000 cost: 478.817640046 error: 0.217\n",
      "i: 16000 cost: 476.16418227 error: 0.22\n",
      "i: 17000 cost: 473.684615388 error: 0.218\n",
      "i: 18000 cost: 471.357215242 error: 0.213\n",
      "i: 19000 cost: 469.163920301 error: 0.211\n",
      "i: 20000 cost: 467.089584398 error: 0.211\n",
      "i: 21000 cost: 465.121406132 error: 0.211\n",
      "i: 22000 cost: 463.248487703 error: 0.21\n",
      "i: 23000 cost: 461.46148999 error: 0.208\n",
      "i: 24000 cost: 459.752360141 error: 0.21\n",
      "i: 25000 cost: 458.114114431 error: 0.209\n",
      "i: 26000 cost: 456.540663724 error: 0.207\n",
      "i: 27000 cost: 455.026672081 error: 0.206\n",
      "i: 28000 cost: 453.567441386 error: 0.206\n",
      "i: 29000 cost: 452.158816598 error: 0.206\n",
      "i: 30000 cost: 450.797107422 error: 0.206\n",
      "i: 31000 cost: 449.479023202 error: 0.205\n",
      "i: 32000 cost: 448.201618499 error: 0.202\n",
      "i: 33000 cost: 446.962247355 error: 0.202\n",
      "i: 34000 cost: 445.758524682 error: 0.2\n",
      "i: 35000 cost: 444.588293517 error: 0.2\n",
      "i: 36000 cost: 443.44959711 error: 0.199\n",
      "i: 37000 cost: 442.340655061 error: 0.199\n",
      "i: 38000 cost: 441.259842816 error: 0.2\n",
      "i: 39000 cost: 440.205673994 error: 0.201\n",
      "i: 40000 cost: 439.176785091 error: 0.201\n",
      "i: 41000 cost: 438.171922212 error: 0.199\n",
      "i: 42000 cost: 437.189929501 error: 0.199\n",
      "i: 43000 cost: 436.229739043 error: 0.196\n",
      "i: 44000 cost: 435.290362006 error: 0.196\n",
      "i: 45000 cost: 434.370880861 error: 0.195\n",
      "i: 46000 cost: 433.470442524 error: 0.194\n",
      "i: 47000 cost: 432.588252293 error: 0.194\n",
      "i: 48000 cost: 431.723568483 error: 0.194\n",
      "i: 49000 cost: 430.875697651 error: 0.193\n",
      "i: 50000 cost: 430.043990351 error: 0.192\n",
      "i: 51000 cost: 429.227837351 error: 0.193\n",
      "i: 52000 cost: 428.426666233 error: 0.192\n",
      "i: 53000 cost: 427.639938367 error: 0.193\n",
      "i: 54000 cost: 426.867146172 error: 0.192\n",
      "i: 55000 cost: 426.107810667 error: 0.192\n",
      "i: 56000 cost: 425.361479253 error: 0.193\n",
      "i: 57000 cost: 424.62772371 error: 0.193\n",
      "i: 58000 cost: 423.906138389 error: 0.193\n",
      "i: 59000 cost: 423.196338561 error: 0.191\n",
      "i: 60000 cost: 422.497958933 error: 0.193\n",
      "i: 61000 cost: 421.810652278 error: 0.193\n",
      "i: 62000 cost: 421.134088201 error: 0.191\n",
      "i: 63000 cost: 420.467952008 error: 0.189\n",
      "i: 64000 cost: 419.811943664 error: 0.187\n",
      "i: 65000 cost: 419.165776849 error: 0.188\n",
      "i: 66000 cost: 418.529178083 error: 0.189\n",
      "i: 67000 cost: 417.901885928 error: 0.189\n",
      "i: 68000 cost: 417.283650249 error: 0.189\n",
      "i: 69000 cost: 416.674231534 error: 0.188\n",
      "i: 70000 cost: 416.07340027 error: 0.188\n",
      "i: 71000 cost: 415.480936357 error: 0.188\n",
      "i: 72000 cost: 414.896628578 error: 0.188\n",
      "i: 73000 cost: 414.320274096 error: 0.187\n",
      "i: 74000 cost: 413.751677994 error: 0.186\n",
      "i: 75000 cost: 413.190652848 error: 0.186\n",
      "i: 76000 cost: 412.637018323 error: 0.186\n",
      "i: 77000 cost: 412.090600805 error: 0.186\n",
      "i: 78000 cost: 411.551233054 error: 0.185\n",
      "i: 79000 cost: 411.018753876 error: 0.185\n",
      "i: 80000 cost: 410.493007825 error: 0.185\n",
      "i: 81000 cost: 409.973844918 error: 0.181\n",
      "i: 82000 cost: 409.461120368 error: 0.179\n",
      "i: 83000 cost: 408.954694338 error: 0.179\n",
      "i: 84000 cost: 408.454431707 error: 0.18\n",
      "i: 85000 cost: 407.960201849 error: 0.18\n",
      "i: 86000 cost: 407.471878428 error: 0.18\n",
      "i: 87000 cost: 406.989339202 error: 0.179\n",
      "i: 88000 cost: 406.512465845 error: 0.179\n",
      "i: 89000 cost: 406.041143769 error: 0.179\n",
      "i: 90000 cost: 405.575261964 error: 0.179\n",
      "i: 91000 cost: 405.114712845 error: 0.178\n",
      "i: 92000 cost: 404.659392105 error: 0.178\n",
      "i: 93000 cost: 404.209198578 error: 0.176\n",
      "i: 94000 cost: 403.764034112 error: 0.174\n",
      "i: 95000 cost: 403.32380344 error: 0.174\n",
      "i: 96000 cost: 402.88841407 error: 0.171\n",
      "i: 97000 cost: 402.457776168 error: 0.172\n",
      "i: 98000 cost: 402.031802459 error: 0.172\n",
      "i: 99000 cost: 401.61040812 error: 0.167\n",
      "i: 100000 cost: 401.193510693 error: 0.167\n",
      "i: 101000 cost: 400.78102999 error: 0.167\n",
      "i: 102000 cost: 400.372888008 error: 0.167\n",
      "i: 103000 cost: 399.969008846 error: 0.168\n",
      "i: 104000 cost: 399.569318632 error: 0.168\n",
      "i: 105000 cost: 399.173745443 error: 0.168\n",
      "i: 106000 cost: 398.782219237 error: 0.168\n",
      "i: 107000 cost: 398.394671787 error: 0.168\n",
      "i: 108000 cost: 398.011036613 error: 0.168\n",
      "i: 109000 cost: 397.631248924 error: 0.168\n",
      "i: 110000 cost: 397.255245556 error: 0.167\n",
      "i: 111000 cost: 396.882964918 error: 0.167\n",
      "i: 112000 cost: 396.514346939 error: 0.167\n",
      "i: 113000 cost: 396.149333014 error: 0.167\n",
      "i: 114000 cost: 395.787865956 error: 0.166\n",
      "i: 115000 cost: 395.42988995 error: 0.165\n",
      "i: 116000 cost: 395.075350505 error: 0.165\n",
      "i: 117000 cost: 394.724194415 error: 0.165\n",
      "i: 118000 cost: 394.376369713 error: 0.164\n",
      "i: 119000 cost: 394.031825636 error: 0.163\n",
      "Mejor Error de validacion: 0.163\n"
     ]
    }
   ],
   "source": [
    "# Entrenamos\n",
    "\n",
    "model = LogisticModel() # instancio un objeto de la clase LogisticModel\n",
    "\n",
    "# hice una pequeña modificacion en el codigo de la clase para que al hacer model.fit() \n",
    "# devuelva los costes segun se ha ido entrenando. \n",
    "lista_costs=model.JEC_fit(X, Y, epochs=120000)"
   ]
  },
  {
   "cell_type": "code",
   "execution_count": 28,
   "metadata": {},
   "outputs": [
    {
     "data": {
      "text/plain": [
       "0.87363304981774004"
      ]
     },
     "execution_count": 28,
     "metadata": {},
     "output_type": "execute_result"
    }
   ],
   "source": [
    "model.score(X, Y)\n",
    "# scores = cross_val_score(model, X, Y, cv=5)\n",
    "# print \"score mean:\", np.mean(scores), \"stdev:\", np.std(scores)"
   ]
  },
  {
   "cell_type": "code",
   "execution_count": 29,
   "metadata": {},
   "outputs": [
    {
     "data": {
      "image/png": "[encoded data removed]",
      "text/plain": [
       "<matplotlib.figure.Figure at 0x7f6b7621dd10>"
      ]
     },
     "metadata": {},
     "output_type": "display_data"
    }
   ],
   "source": [
    "plt.plot(lista_costs)\n",
    "plt.show()"
   ]
  },
  {
   "cell_type": "code",
   "execution_count": null,
   "metadata": {
    "collapsed": true
   },
   "outputs": [],
   "source": []
  }
 ],
 "metadata": {
  "kernelspec": {
   "display_name": "Python 2",
   "language": "python",
   "name": "python2"
  },
  "language_info": {
   "codemirror_mode": {
    "name": "ipython",
    "version": 2
   },
   "file_extension": ".py",
   "mimetype": "text/x-python",
   "name": "python",
   "nbconvert_exporter": "python",
   "pygments_lexer": "ipython2",
   "version": "2.7.13"
  }
 },
 "nbformat": 4,
 "nbformat_minor": 2
}
