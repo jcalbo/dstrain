{
 "cells": [
  {
   "cell_type": "markdown",
   "metadata": {},
   "source": [
    "# Clasificación de Dígitos de MNIST\n",
    "\n",
    "http://brianfarris.me/static/digit_recognizer.html\n",
    "\n",
    "Ejemplos de clasificación de MNIST usando varios métodos:\n",
    "\n",
    "- SVM (http://scikit-learn.org/stable/modules/svm.html)\n",
    "- Random Forest (http://scikit-learn.org/stable/modules/generated/sklearn.ensemble.RandomForestClassifier.html)\n",
    "- KNN (http://scikit-learn.org/stable/modules/generated/sklearn.neighbors.KNeighborsClassifier.html)\n",
    "- Neural Networks (http://scikit-learn.org/stable/modules/neural_networks_supervised.html#classification)\n",
    "- SGD (http://scikit-learn.org/stable/modules/generated/sklearn.linear_model.SGDClassifier.html)"
   ]
  },
  {
   "cell_type": "code",
   "execution_count": 6,
   "metadata": {},
   "outputs": [],
   "source": [
    "# librerias basicas\n",
    "import pandas as pd\n",
    "import numpy as np\n",
    "\n",
    "# Importamos liberias de 5 clasificadores\n",
    "from sklearn.ensemble import RandomForestClassifier\n",
    "from sklearn.svm import LinearSVC\n",
    "from sklearn.linear_model import SGDClassifier\n",
    "from sklearn.neighbors import KNeighborsClassifier\n",
    "from sklearn.neural_network import MLPClassifier\n",
    "\n",
    "# librerias utiles\n",
    "from sklearn import cross_validation\n",
    "from sklearn.metrics import accuracy_score\n",
    "import time\n"
   ]
  },
  {
   "cell_type": "markdown",
   "metadata": {},
   "source": [
    "### Leemos los datos y preparamos los conjuntos de train y test"
   ]
  },
  {
   "cell_type": "code",
   "execution_count": 3,
   "metadata": {
    "collapsed": true
   },
   "outputs": [],
   "source": [
    "train = pd.read_csv(\"/home/jorge/data/MNIST/train.csv\")\n",
    "features = train.columns[1:]\n",
    "X = train[features]\n",
    "y = train['label']\n",
    "\n",
    "# Uso la función train_test_split de la clase cross_validation para crear los datasets\n",
    "X_train, X_test, y_train, y_test = cross_validation.train_test_split(X/255.,y,test_size=0.1,random_state=0)"
   ]
  },
  {
   "cell_type": "code",
   "execution_count": 4,
   "metadata": {},
   "outputs": [
    {
     "name": "stdout",
     "output_type": "stream",
     "text": [
      "Tamaño del conjunto de train: (37800, 784)\n"
     ]
    }
   ],
   "source": [
    "print \"Tamaño del conjunto de train:\", X_train.shape"
   ]
  },
  {
   "cell_type": "code",
   "execution_count": 5,
   "metadata": {},
   "outputs": [
    {
     "name": "stdout",
     "output_type": "stream",
     "text": [
      "Tamaño del conjunto de test: (4200, 784)\n"
     ]
    }
   ],
   "source": [
    "print \"Tamaño del conjunto de test:\" , X_test.shape"
   ]
  },
  {
   "cell_type": "code",
   "execution_count": 17,
   "metadata": {
    "collapsed": true
   },
   "outputs": [],
   "source": [
    "# creo un par de listas para plotear luego los resultados.\n",
    "clasificador =[]\n",
    "tiempo=[]\n",
    "acc=[]"
   ]
  },
  {
   "cell_type": "markdown",
   "metadata": {},
   "source": [
    "# SVM"
   ]
  },
  {
   "cell_type": "code",
   "execution_count": 8,
   "metadata": {},
   "outputs": [
    {
     "name": "stdout",
     "output_type": "stream",
     "text": [
      "Accuracy de SVM (usando un kernel lineal):  0.91\n",
      "Tiempo de training:  37.257573843\n"
     ]
    }
   ],
   "source": [
    "clasificador_svm = LinearSVC()\n",
    "\n",
    "start = time.time()\n",
    "clasificador_svm.fit(X_train, y_train)\n",
    "end = time.time()\n",
    "\n",
    "y_pred_svm = clasificador_svm.predict(X_test)\n",
    "\n",
    "acc_svm = accuracy_score(y_test, y_pred_svm)\n",
    "print \"Accuracy de SVM (usando un kernel lineal): \",acc_svm\n",
    "print \"Tiempo de training: \",(end - start)\n",
    "\n",
    "# guardamos los resultados\n",
    "clasificador.append('SVM')\n",
    "tiempo.append(end - start)\n",
    "acc.append(acc_svm)"
   ]
  },
  {
   "cell_type": "markdown",
   "metadata": {},
   "source": [
    "# Random Forest"
   ]
  },
  {
   "cell_type": "code",
   "execution_count": 9,
   "metadata": {},
   "outputs": [
    {
     "name": "stdout",
     "output_type": "stream",
     "text": [
      "Accuracy de Random Forest:  0.940714285714\n",
      "Tiempo de training:  2.32136297226\n"
     ]
    }
   ],
   "source": [
    "clasificador_rf = RandomForestClassifier()\n",
    "\n",
    "start = time.time()\n",
    "clasificador_rf.fit(X_train, y_train)\n",
    "end = time.time()\n",
    "\n",
    "y_pred_rf = clasificador_rf.predict(X_test)\n",
    "\n",
    "acc_rf = accuracy_score(y_test, y_pred_rf)\n",
    "print \"Accuracy de Random Forest: \",acc_rf\n",
    "print \"Tiempo de training: \",(end - start)\n",
    "\n",
    "# guardamos los resultados\n",
    "clasificador.append('RF')\n",
    "tiempo.append(end - start)\n",
    "acc.append(acc_rf)"
   ]
  },
  {
   "cell_type": "markdown",
   "metadata": {},
   "source": [
    "# KNN"
   ]
  },
  {
   "cell_type": "code",
   "execution_count": 13,
   "metadata": {},
   "outputs": [
    {
     "name": "stdout",
     "output_type": "stream",
     "text": [
      "start -  1506250413.31\n",
      "end -  1506250416.49\n",
      "Accuracy en train de Nearest Neighbors:  0.97835978836\n",
      "Accuracy en test de Nearest Neighbors:  0.966666666667\n",
      "Tiempo de training:  3.17824482918\n"
     ]
    }
   ],
   "source": [
    "clasificador_knn = KNeighborsClassifier()\n",
    "\n",
    "start = time.time()\n",
    "clasificador_knn.fit(X_train, y_train)\n",
    "end = time.time()\n",
    "print \"start - \", start\n",
    "print \"end - \", end\n",
    "\n",
    "y_pred_knn = clasificador_knn.predict(X_test)\n",
    "y_pred2_knn = clasificador_knn.predict(X_train)\n",
    "\n",
    "acc_knn = accuracy_score(y_test, y_pred_knn)\n",
    "acc2_knn = accuracy_score(y_train, y_pred2_knn)\n",
    "\n",
    "print \"Accuracy en train de Nearest Neighbors: \",acc2_knn\n",
    "print \"Accuracy en test de Nearest Neighbors: \",acc_knn\n",
    "\n",
    "print \"Tiempo de training: \",(end - start)\n",
    "\n",
    "# guardamos los resultados\n",
    "clasificador.append('KNN')\n",
    "tiempo.append(end - start)\n",
    "acc.append(acc_knn)"
   ]
  },
  {
   "cell_type": "markdown",
   "metadata": {
    "collapsed": true
   },
   "source": [
    "# ANN"
   ]
  },
  {
   "cell_type": "code",
   "execution_count": 14,
   "metadata": {},
   "outputs": [
    {
     "name": "stdout",
     "output_type": "stream",
     "text": [
      "start -  1506256978.77\n",
      "end -  1506257013.51\n",
      "Accuracy de training: 0.996507936508 Accuracy de test: 0.948571428571\n",
      "Tiempo de training:  34.7421078682\n"
     ]
    }
   ],
   "source": [
    "clasificador_nn = MLPClassifier(hidden_layer_sizes=(20, 20), max_iter=2000)\n",
    "\n",
    "start = time.time()\n",
    "\n",
    "clasificador_nn.fit(X_train, y_train)\n",
    "end = time.time()\n",
    "print \"start - \", start\n",
    "print \"end - \", end\n",
    "\n",
    "train_accuracy = clasificador_nn.score(X_train, y_train)\n",
    "test_accuracy = clasificador_nn.score(X_test, y_test)\n",
    "print \"Accuracy de training:\", train_accuracy, \"Accuracy de test:\", test_accuracy\n",
    "print \"Tiempo de training: \",(end - start)\n",
    "\n",
    "# guardamos los resultados\n",
    "clasificador.append('ANN')\n",
    "tiempo.append(end - start)\n",
    "acc.append(test_accuracy)"
   ]
  },
  {
   "cell_type": "markdown",
   "metadata": {},
   "source": [
    "# SGD "
   ]
  },
  {
   "cell_type": "code",
   "execution_count": 15,
   "metadata": {},
   "outputs": [
    {
     "name": "stdout",
     "output_type": "stream",
     "text": [
      "start -  1506264414.34\n",
      "end -  1506264416.59\n",
      "Accuracy en train de SGD:  0.89462962963\n",
      "Accuracy en test de SGD:  0.889523809524\n",
      "Tiempo de training:  2.2491569519\n"
     ]
    }
   ],
   "source": [
    "clasificador_sgd = SGDClassifier()\n",
    "\n",
    "start = time.time()\n",
    "clasificador_sgd.fit(X_train, y_train)\n",
    "end = time.time()\n",
    "print \"start - \", start\n",
    "print \"end - \", end\n",
    "\n",
    "y_pred_sgd = clasificador_sgd.predict(X_test)\n",
    "y_pred2_sgd = clasificador_sgd.predict(X_train)\n",
    "\n",
    "acc_sgd = accuracy_score(y_test, y_pred_sgd)\n",
    "acc2_sgd = accuracy_score(y_train, y_pred2_sgd)\n",
    "\n",
    "print \"Accuracy en train de SGD: \",acc2_sgd\n",
    "print \"Accuracy en test de SGD: \",acc_sgd\n",
    "\n",
    "print \"Tiempo de training: \",(end - start)\n",
    "\n",
    "# guardamos los resultados\n",
    "clasificador.append('SGD')\n",
    "tiempo.append(end - start)\n",
    "acc.append(acc_sgd)"
   ]
  },
  {
   "cell_type": "code",
   "execution_count": null,
   "metadata": {
    "collapsed": true
   },
   "outputs": [],
   "source": []
  }
 ],
 "metadata": {
  "kernelspec": {
   "display_name": "Python 2",
   "language": "python",
   "name": "python2"
  },
  "language_info": {
   "codemirror_mode": {
    "name": "ipython",
    "version": 2
   },
   "file_extension": ".py",
   "mimetype": "text/x-python",
   "name": "python",
   "nbconvert_exporter": "python",
   "pygments_lexer": "ipython2",
   "version": "2.7.13"
  }
 },
 "nbformat": 4,
 "nbformat_minor": 2
}
